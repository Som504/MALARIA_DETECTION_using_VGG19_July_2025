{
"cells": [
{
"cell_type": "markdown",
"metadata": {},
"source": [
"# Import libraries"
]
},
{
"cell_type": "code",
"execution_count": 176,
"metadata": {
"scrolled": true
},
"outputs": [
{
"name": "stdout",
"output_type": "stream",
"text": [
"2.0.0\n"
]
}
],
"source": [
"import os, shutil\n",
"import split_folders\n",
"import random\n",
"import numpy as np\n",
"import pandas as pd\n",
"import itertools\n",
"from tqdm import tqdm, tqdm_notebook\n",
"import cv2\n",
"from scipy import stats\n",
"from sklearn.metrics import confusion_matrix, roc_curve,auc, classification_report, precision_score, recall_score\n",
"from sklearn.linear_model import LinearRegression\n",
"\n",
"import skimage\n",
"import skimage.segmentation\n",
"import copy\n",
"\n",
"# Data Visualization\n",
"import matplotlib.pyplot as plt\n",
"%matplotlib inline\n",
"plt.style.use('ggplot')\n",
"import matplotlib.pyplot as plt\n",
"import seaborn as sns\n",
"import matplotlib.image as mpimg\n",
"\n",
"\n",
"import tensorflow as tf\n",
"print(tf.__version__)\n",
"from tensorflow.keras.preprocessing.image import ImageDataGenerator\n",
"from tensorflow.keras.models import Model\n",
"from tensorflow.keras.models import load_model\n",
"from tensorflow.keras.layers import Input, Flatten, Dense, MaxPooling2D, Conv2D, Dropout\n",
"from tensorflow.keras.applications.vgg19 import VGG19\n",
"from tensorflow.keras.optimizers import SGD, RMSprop, Adam\n",
"from tensorflow.keras.callbacks import ModelCheckpoint, EarlyStopping, ReduceLROnPlateau\n",
"from tensorflow.keras.applications.imagenet_utils import decode_predictions"
]
},
{
"cell_type": "markdown",
"metadata": {},
"source": [
"# Load data "
]
},
{
"cell_type": "code",
"execution_count": 2,
"metadata": {},
"outputs": [],
"source": [
"original_dataset = os.path.join('/Users/Desktop/malaria','cell_images')\n",
"original_dataset_parasitized = os.path.join(original_dataset, 'Parasitized')\n",
"original_dataset_uninfected = os.path.join(original_dataset, 'Uninfected')"
]
},
{
"cell_type": "markdown",
"metadata": {},
"source": [
"# Copying images "
]
},
{
"cell_type": "code",
"execution_count": 3,
"metadata": {},
"outputs": [],
"source": [
"# Create a base dir\n",
"if not os.path.isdir('healthy_and_infected'):\n",
    "                base_dir = '/Users/rajesharasada/Desktop/malaria/healthy_and_infected'\n",
    "                base_dir = '/Users/Desktop/malaria/healthy_and_infected'\n",
"                os.mkdir(base_dir)"
]
},
{
"cell_type": "code",
"execution_count": 4,
"metadata": {},
"outputs": [],
"source": [
"# Make train, valid and test directories\n",
"#train\n",
"if not os.path.isdir('healthy_and_infected/train'):\n",
"    train_dir = os.path.join(base_dir, 'train')\n",
"    os.mkdir(train_dir)\n",
"#valid\n",
"if not os.path.isdir('healthy_and_infected/valid'):\n",
"    valid_dir = os.path.join(base_dir, 'valid')\n",
"    os.mkdir(valid_dir)\n",
"#test\n",
"if not os.path.isdir('healthy_and_infected/test'):\n",
"    test_dir = os.path.join(base_dir, 'test')\n",
"    os.mkdir(test_dir)"
]
},
{
"cell_type": "code",
"execution_count": 5,
"metadata": {},
"outputs": [],
"source": [
"# Make directories for infected images in each of the train, valid and test directories\n",
"if not os.path.isdir('healthy_and_infected/train/inf'):\n",
"    infected_trn_dir = os.path.join(train_dir, 'inf')\n",
"    os.mkdir(infected_trn_dir)\n",
"\n",
"if not os.path.isdir('healthy_and_infected/valid/inf'):\n",
"    infected_valid_dir = os.path.join(valid_dir, 'inf')\n",
"    os.mkdir(infected_valid_dir)\n",
"\n",
"if not os.path.isdir('healthy_and_infected/test/inf'):\n",
"    infected_test_dir = os.path.join(test_dir, 'inf')\n",
"    os.mkdir(infected_test_dir)"
]
},
{
"cell_type": "code",
"execution_count": 6,
"metadata": {},
"outputs": [],
"source": [
"# Make directories for healthy images in each of the train, valid and test directories\n",
"if not os.path.isdir('healthy_and_infected/train/healthy'):\n",
"    healthy_trn_dir = os.path.join(train_dir, 'healthy')\n",
"    os.mkdir(healthy_trn_dir)\n",
"\n",
"if not os.path.isdir('healthy_and_infected/valid/healthy'):\n",
"    healthy_valid_dir = os.path.join(valid_dir, 'healthy')\n",
"    os.mkdir(healthy_valid_dir)\n",
"\n",
"if not os.path.isdir('healthy_and_infected/test/healthy'):\n",
"    healthy_test_dir = os.path.join(test_dir, 'healthy')\n",
"    os.mkdir(healthy_test_dir)"
]
},
{
"cell_type": "code",
"execution_count": 7,
"metadata": {},
"outputs": [],
"source": [
"# Copies the first 10981 infected images to the infected_train_dir\n",
"fnames = ['Infected_{}.png'.format(i) for i in (range(1,10981))]\n",
"for fname in fnames:\n",
"    src = os.path.join(original_dataset_parasitized, fname)\n",
"    dst = os.path.join(infected_trn_dir, fname)\n",
"    shutil.copyfile(src,dst)"
]
},
{
"cell_type": "code",
"execution_count": 8,
"metadata": {},
"outputs": [],
"source": [
"# Copies the 1400 infected images (10981, 12382) to the infected_valid_dir\n",
"fnames = ['Infected_{}.png'.format(i) for i in range(10981, 12382)]\n",
"for fname in fnames:\n",
"    src = os.path.join(original_dataset_parasitized, fname)\n",
"    dst = os.path.join(infected_valid_dir, fname)\n",
"    shutil.copyfile(src,dst)"
]
},
{
"cell_type": "code",
"execution_count": 9,
"metadata": {},
"outputs": [],
"source": [
"### Copy another 1400 infected images () to the infected_test_dir\n",
"fnames = ['Infected_{}.png'.format(i) for i in range(12382,13780)]\n",
"for fname in fnames:\n",
"    src = os.path.join(original_dataset_parasitized, fname)\n",
"    dst = os.path.join(infected_test_dir, fname)\n",
"    shutil.copyfile(src,dst)"
]
},
{
"cell_type": "code",
"execution_count": 10,
"metadata": {},
"outputs": [],
"source": [
"# Copies the first 10981 infected images to the infected_train_dir\n",
"fnames = ['Uninfected_{}.png'.format(i) for i in range(1, 10981)]\n",
"for fname in fnames:\n",
"    src = os.path.join(original_dataset_uninfected, fname)\n",
"    dst = os.path.join(healthy_trn_dir, fname)\n",
"    shutil.copyfile(src,dst)"
]
},
{
"cell_type": "code",
"execution_count": 11,
"metadata": {},
"outputs": [],
"source": [
"# Copies the 1400 infected images (10981, 12382) to the infected_valid_dir\n",
"fnames = ['Uninfected_{}.png'.format(i) for i in range(10981, 12382)]\n",
"for fname in fnames:\n",
"    src = os.path.join(original_dataset_uninfected, fname)\n",
"    dst = os.path.join(healthy_valid_dir, fname)\n",
"    shutil.copyfile(src,dst)"
]
},
{
"cell_type": "code",
"execution_count": 12,
"metadata": {},
"outputs": [],
"source": [
"### Copy another 1400 infected images () to the infected_test_dir\n",
"fnames = ['Uninfected_{}.png'.format(i) for i in range(12382,13780)]\n",
"for fname in fnames:\n",
"    src = os.path.join(original_dataset_uninfected, fname)\n",
"    dst = os.path.join(healthy_test_dir, fname)\n",
"    shutil.copyfile(src,dst)"
]
},
{
"cell_type": "code",
"execution_count": 13,
"metadata": {},
"outputs": [
{
"name": "stdout",
"output_type": "stream",
"text": [
"10980 Infected training images:\n",
"10980 Uninfected training images:\n",
" 1401 Infected valid images:\n",
" 1401 Uninfected valid images:\n",
" 1398 Infected testing images:\n",
" 1398 Uninfected testing images:\n"
]
}
],
"source": [
"print(\"{} Infected training images:\".format(len(os.listdir(infected_trn_dir))))\n",
"print(\"{} Uninfected training images:\".format(len(os.listdir(healthy_trn_dir))))\n",
"print(\" {} Infected valid images:\".format(len(os.listdir(infected_valid_dir))))\n",
"print(\" {} Uninfected valid images:\".format(len(os.listdir(healthy_valid_dir))))\n",
"print(\" {} Infected testing images:\".format(len(os.listdir(infected_test_dir))))\n",
"print(\" {} Uninfected testing images:\".format(len(os.listdir(healthy_test_dir))))"
]
},
{
"cell_type": "markdown",
"metadata": {},
"source": [
"#  Data Analysis"
]
},
{
"cell_type": "code",
"execution_count": 14,
"metadata": {},
"outputs": [],
"source": [
"# Train\n",
"infected_trn_fpaths = [os.path.join(infected_trn_dir, fpath) for fpath in os.listdir(infected_trn_dir)]\n",
"healthy_trn_fpaths = [os.path.join(healthy_trn_dir, fpath) for fpath in os.listdir(healthy_trn_dir)]\n",
"\n",
"# Valid\n",
"infected_valid_fpaths = [os.path.join(infected_valid_dir, fpath) for fpath in os.listdir(infected_valid_dir)]\n",
"healthy_valid_fpaths = [os.path.join(healthy_valid_dir, fpath) for fpath in os.listdir(healthy_valid_dir)]\n",
"\n",
"# Test\n",
"infected_test_fpaths = [os.path.join(infected_test_dir, fpath) for fpath in os.listdir(infected_test_dir)]\n",
"healthy_test_fpaths = [os.path.join(healthy_test_dir, fpath) for fpath in os.listdir(healthy_test_dir)]\n"
]
},
{
"cell_type": "code",
"execution_count": 15,
"metadata": {},
"outputs": [
{
"name": "stdout",
"output_type": "stream",
"text": [
"working on img 0\n",
"working on img 2000\n",
"working on img 4000\n",
"working on img 6000\n",
"working on img 8000\n",
"working on img 10000\n",
"working on img 12000\n",
"working on img 14000\n",
"working on img 16000\n",
"working on img 18000\n",
"working on img 20000\n",
"working on img 21959\n"
]
}
],
"source": [
"def get_img_shape(idx, img, total_num_images):\n",
"    \n",
"    if idx%2000 ==0 or idx == (total_num_images-1):\n",
"        print(\"working on img {}\".format(idx))\n",
"    return cv2.imread(img).shape\n",
"\n",
"data_inp = [(idx, img, len(infected_trn_fpaths + healthy_trn_fpaths)) for idx, img in enumerate(infected_trn_fpaths + healthy_trn_fpaths)]\n",
"\n",
"train_img_dims_map = list(map(get_img_shape, [input[0] for input in data_inp],\n",
"    [input[1] for input in data_inp],\n",
"    [input[2] for input in data_inp]))"
]
},
{
"cell_type": "code",
"execution_count": 16,
"metadata": {},
"outputs": [
{
"name": "stdout",
"output_type": "stream",
"text": [
"Min Dimensions:           [40 46  3]\n",
"Avg Dimensions:           [133.54084699 132.82322404   3.        ]\n",
"Median Dimensions:        [133. 130.   3.]\n",
"Most Frequent Dimensions: [[130 130   3]]\n",
"Max Dimensions:           [385 394   3]\n"
]
}
],
"source": [
"print('Min Dimensions:           {}'.format(np.min(train_img_dims_map, axis=0)))\n",
"print('Avg Dimensions:           {}'.format(np.mean(train_img_dims_map, axis=0)))\n",
"print('Median Dimensions:        {}'.format(np.median(train_img_dims_map, axis=0)))\n",
"print('Most Frequent Dimensions: {}'.format(stats.mode(train_img_dims_map, axis=0)[0]))\n",
"print('Max Dimensions:           {}'.format(np.max(train_img_dims_map, axis=0)))"
]
},
{
"cell_type": "code",
"execution_count": 21,
"metadata": {},
"outputs": [],
"source": [
"infected_trn_samples = random.sample(infected_trn_fpaths, 5)\n",
"healthy_trn_samples = random.sample(healthy_trn_fpaths, 5)"
]
},
{
"cell_type": "markdown",
"metadata": {},
"source": [
"# Data Augumentation "
]
},
{
"cell_type": "code",
"execution_count": 57,
"metadata": {},
"outputs": [
{
"name": "stdout",
"output_type": "stream",
"text": [
"Found 21960 images belonging to 2 classes.\n",
"Found 2802 images belonging to 2 classes.\n"
]
}
],
"source": [
"train_datagen = ImageDataGenerator(rescale=1./255.,\n",
"                                   horizontal_flip=0.4,\n",
"                                   vertical_flip=0.4,\n",
"                                   rotation_range=40,\n",
"                                   shear_range=0.2,\n",
"                                   width_shift_range=0.4,\n",
"                                   height_shift_range=0.4,\n",
"                                   fill_mode='nearest')\n",
"valid_datagen = ImageDataGenerator(rescale=1.0/255.)\n",
"test_datagen = ImageDataGenerator(rescale=1.0/255.)\n",
"\n",
"train_generator = train_datagen.flow_from_directory(train_dir,\n",
"                                                    batch_size=32,\n",
"                                                    target_size=(128,128),\n",
"                                                    class_mode='categorical',\n",
"                                                    shuffle=True,\n",
"                                                    seed=42,\n",
"                                                    color_mode='rgb')\n",
"\n",
"valid_generator = valid_datagen.flow_from_directory(valid_dir,\n",
"                                                    batch_size=32,\n",
"                                                    target_size=(128, 128),\n",
"                                                    class_mode='categorical',\n",
"                                                    shuffle=True,\n",
"                                                    seed=42,\n",
"                                                    color_mode='rgb')\n",
"\n",
"class_labels = train_generator.class_indices\n",
"class_names = {value:key for (key, value) in class_labels.items()}"
]
},
{
"cell_type": "code",
"execution_count": 18,
"metadata": {},
"outputs": [
{
"data": {
"text/plain": [
"({'healthy': 0, 'inf': 1}, {0: 'healthy', 1: 'inf'})"
]
},
"execution_count": 18,
"metadata": {},
"output_type": "execute_result"
}
],
"source": [
"class_labels, class_names"
]
},
{
"cell_type": "code",
"execution_count": null,
"metadata": {},
"outputs": [],
"source": []
},
{
"cell_type": "markdown",
"metadata": {},
"source": [
"# Transfer Learning"
]
},
{
"cell_type": "code",
"execution_count": 21,
"metadata": {},
"outputs": [
{
"name": "stdout",
"output_type": "stream",
"text": [
"Model: \"model\"\n",
"_________________________________________________________________\n",
"Layer (type)                 Output Shape              Param #   \n",
"=================================================================\n",
"input_1 (InputLayer)         [(None, 128, 128, 3)]     0         \n",
"_________________________________________________________________\n",
"block1_conv1 (Conv2D)        (None, 128, 128, 64)      1792      \n",
"_________________________________________________________________\n",
"block1_conv2 (Conv2D)        (None, 128, 128, 64)      36928     \n",
"_________________________________________________________________\n",
"block1_pool (MaxPooling2D)   (None, 64, 64, 64)        0         \n",
"_________________________________________________________________\n",
"block2_conv1 (Conv2D)        (None, 64, 64, 128)       73856     \n",
"_________________________________________________________________\n",
"block2_conv2 (Conv2D)        (None, 64, 64, 128)       147584    \n",
"_________________________________________________________________\n",
"block2_pool (MaxPooling2D)   (None, 32, 32, 128)       0         \n",
"_________________________________________________________________\n",
"block3_conv1 (Conv2D)        (None, 32, 32, 256)       295168    \n",
"_________________________________________________________________\n",
"block3_conv2 (Conv2D)        (None, 32, 32, 256)       590080    \n",
"_________________________________________________________________\n",
"block3_conv3 (Conv2D)        (None, 32, 32, 256)       590080    \n",
"_________________________________________________________________\n",
"block3_conv4 (Conv2D)        (None, 32, 32, 256)       590080    \n",
"_________________________________________________________________\n",
"block3_pool (MaxPooling2D)   (None, 16, 16, 256)       0         \n",
"_________________________________________________________________\n",
"block4_conv1 (Conv2D)        (None, 16, 16, 512)       1180160   \n",
"_________________________________________________________________\n",
"block4_conv2 (Conv2D)        (None, 16, 16, 512)       2359808   \n",
"_________________________________________________________________\n",
"block4_conv3 (Conv2D)        (None, 16, 16, 512)       2359808   \n",
"_________________________________________________________________\n",
"block4_conv4 (Conv2D)        (None, 16, 16, 512)       2359808   \n",
"_________________________________________________________________\n",
"block4_pool (MaxPooling2D)   (None, 8, 8, 512)         0         \n",
"_________________________________________________________________\n",
"block5_conv1 (Conv2D)        (None, 8, 8, 512)         2359808   \n",
"_________________________________________________________________\n",
"block5_conv2 (Conv2D)        (None, 8, 8, 512)         2359808   \n",
"_________________________________________________________________\n",
"block5_conv3 (Conv2D)        (None, 8, 8, 512)         2359808   \n",
"_________________________________________________________________\n",
"block5_conv4 (Conv2D)        (None, 8, 8, 512)         2359808   \n",
"_________________________________________________________________\n",
"block5_pool (MaxPooling2D)   (None, 4, 4, 512)         0         \n",
"_________________________________________________________________\n",
"flatten (Flatten)            (None, 8192)              0         \n",
"_________________________________________________________________\n",
"dense (Dense)                (None, 4608)              37753344  \n",
"_________________________________________________________________\n",
"dropout (Dropout)            (None, 4608)              0         \n",
"_________________________________________________________________\n",
"dense_1 (Dense)              (None, 1152)              5309568   \n",
"_________________________________________________________________\n",
"dense_2 (Dense)              (None, 2)                 2306      \n",
"=================================================================\n",
"Total params: 63,089,602\n",
"Trainable params: 43,065,218\n",
"Non-trainable params: 20,024,384\n",
"_________________________________________________________________\n"
]
}
],
"source": [
"# Instantiate VGG19 model with weights from Imagenet without the calssifier at the top\n",
"base_model = VGG19(input_shape = (128,128,3),\n",
"                   include_top = False, \n",
"                   weights = 'imagenet')\n",
"# Freeze the ConvNet to avoid weight updates\n",
"for layer in base_model.layers:\n",
"    layer.trainable=False\n",
"    \n",
"x = base_model.output\n",
"flat=Flatten()(x)\n",
"\n",
"# Add a classifier -  a fully connected dense layers\n",
"class_1 = Dense(4608, activation='relu')(flat)\n",
"drop_out = Dropout(0.2)(class_1)\n",
"class_2 = Dense(1152, activation='relu')(drop_out)\n",
"output = Dense(2, activation='softmax')(class_2)\n",
"\n",
"# Bake a model\n",
"model_01 = Model(base_model.inputs, output)\n",
"model_01.summary()\n",
"\n",
"# Call backs\n",
"filepath = 'best_model.h5'\n",
"es = EarlyStopping(monitor='val_loss', verbose=1, mode='min', patience=4)\n",
"cp = ModelCheckpoint(filepath, monitor='val_loss', verbose=1, save_best_only=True,\n",
"                     save_weights_only=False, mode='auto', save_freq='epoch')\n",
"lrr = ReduceLROnPlateau(monitor='val_accuracy',patience=3,verbose=1,factor=0.5,min_lr=0.0001)\n",
"\n",
"# Define an optimizer\n",
"sgd = SGD(lr=.0001, decay=1e-6, momentum=0.9, nesterov=True)\n",
"\n",
"# Compile the model\n",
"model_01.compile(loss=\"categorical_crossentropy\", optimizer=sgd, metrics=[\"accuracy\"])"
]
},
{
"cell_type": "code",
"execution_count": 33,
"metadata": {},
"outputs": [
{
"name": "stdout",
"output_type": "stream",
"text": [
"Epoch 1/10\n",
"49/50 [============================>.] - ETA: 9s - loss: 0.7103 - accuracy: 0.5210 \n",
"Epoch 00001: val_loss improved from inf to 0.66367, saving model to best_model.h5\n",
"50/50 [==============================] - 696s 14s/step - loss: 0.7089 - accuracy: 0.5225 - val_loss: 0.6637 - val_accuracy: 0.5796\n",
"Epoch 2/10\n",
"49/50 [============================>.] - ETA: 9s - loss: 0.6402 - accuracy: 0.6327 \n",
"Epoch 00002: val_loss improved from 0.66367 to 0.60978, saving model to best_model.h5\n",
"50/50 [==============================] - 697s 14s/step - loss: 0.6385 - accuracy: 0.6350 - val_loss: 0.6098 - val_accuracy: 0.6435\n",
"Epoch 3/10\n",
"49/50 [============================>.] - ETA: 9s - loss: 0.6128 - accuracy: 0.6601 \n",
"Epoch 00003: val_loss improved from 0.60978 to 0.57760, saving model to best_model.h5\n",
"50/50 [==============================] - 706s 14s/step - loss: 0.6120 - accuracy: 0.6606 - val_loss: 0.5776 - val_accuracy: 0.6535\n",
"Epoch 4/10\n",
"49/50 [============================>.] - ETA: 9s - loss: 0.5997 - accuracy: 0.6849 \n",
"Epoch 00004: val_loss improved from 0.57760 to 0.52604, saving model to best_model.h5\n",
"50/50 [==============================] - 676s 14s/step - loss: 0.5992 - accuracy: 0.6850 - val_loss: 0.5260 - val_accuracy: 0.7787\n",
"Epoch 5/10\n",
"49/50 [============================>.] - ETA: 9s - loss: 0.5856 - accuracy: 0.6952 \n",
"Epoch 00005: val_loss improved from 0.52604 to 0.50485, saving model to best_model.h5\n",
"50/50 [==============================] - 681s 14s/step - loss: 0.5870 - accuracy: 0.6931 - val_loss: 0.5049 - val_accuracy: 0.7923\n",
"Epoch 6/10\n",
"49/50 [============================>.] - ETA: 10s - loss: 0.5620 - accuracy: 0.7239\n",
"Epoch 00006: val_loss did not improve from 0.50485\n",
"50/50 [==============================] - 801s 16s/step - loss: 0.5631 - accuracy: 0.7231 - val_loss: 0.5061 - val_accuracy: 0.7427\n",
"Epoch 7/10\n",
"49/50 [============================>.] - ETA: 9s - loss: 0.5665 - accuracy: 0.7188 \n",
"Epoch 00007: val_loss improved from 0.50485 to 0.49669, saving model to best_model.h5\n",
"50/50 [==============================] - 683s 14s/step - loss: 0.5669 - accuracy: 0.7194 - val_loss: 0.4967 - val_accuracy: 0.7405\n",
"Epoch 8/10\n",
"49/50 [============================>.] - ETA: 39s - loss: 0.5478 - accuracy: 0.7296 \n",
"Epoch 00008: val_loss did not improve from 0.49669\n",
"50/50 [==============================] - 2135s 43s/step - loss: 0.5470 - accuracy: 0.7306 - val_loss: 0.5045 - val_accuracy: 0.7127\n",
"Epoch 9/10\n",
"49/50 [============================>.] - ETA: 9s - loss: 0.5202 - accuracy: 0.7462 \n",
"Epoch 00009: val_loss improved from 0.49669 to 0.47882, saving model to best_model.h5\n",
"50/50 [==============================] - 710s 14s/step - loss: 0.5205 - accuracy: 0.7462 - val_loss: 0.4788 - val_accuracy: 0.7466\n",
"Epoch 10/10\n",
"49/50 [============================>.] - ETA: 9s - loss: 0.5225 - accuracy: 0.7551 \n",
"Epoch 00010: val_loss improved from 0.47882 to 0.44221, saving model to best_model.h5\n",
"50/50 [==============================] - 744s 15s/step - loss: 0.5228 - accuracy: 0.7550 - val_loss: 0.4422 - val_accuracy: 0.8073\n"
]
}
],
"source": [
"# Fit the model on the training set and train for 10 epochs\n",
"history_01 = model_01.fit_generator(train_generator,\n",
"                                 steps_per_epoch=50,\n",
"                                 epochs=10,\n",
"                                 callbacks = [es, cp, lrr],\n",
"                                 validation_data = valid_generator)"
]
},
{
"cell_type": "code",
"execution_count": 39,
"metadata": {},
"outputs": [],
"source": [
"# save model\n",
"if not os.path.isdir('model_weights/'):\n",
"    os.mkdir('model_weights/')\n",
"model_01.save_weights(filepath='model_weights/vgg19_model_01.h5', overwrite=True)"
]
},
{
"cell_type": "code",
"execution_count": 59,
"metadata": {},
"outputs": [
{
"name": "stdout",
"output_type": "stream",
"text": [
"Found 2796 images belonging to 2 classes.\n"
]
}
],
"source": [
"# Resize test images similar to the train data\n",
"test_generator = test_datagen.flow_from_directory(test_dir,\n",
"                                                  batch_size=1,\n",
"                                                  target_size=(128, 128),\n",
"                                                  class_mode='categorical',\n",
"                                                  shuffle=False,\n",
"                                                  seed=42,\n",
"                                                  color_mode='rgb')"
]
},
{
"cell_type": "code",
"execution_count": 39,
"metadata": {},
"outputs": [
{
"name": "stdout",
"output_type": "stream",
"text": [
"Validation loss:     0.44\n",
"Validation accuracy: 0.81\n",
"Test loss:           0.44\n",
"Test accuracy:       0.80\n"
]
}
],
"source": [
"# Load the saved model\n",
"model_01.load_weights('model_weights/vgg19_model_01.h5')\n",
"# Evaluate the model on the hold out validation and test datasets\n",
"\n",
"# Evaluate the model on batches of validation and testing data\n",
"vgg_val_eval_01 = model_01.evaluate_generator(valid_generator)\n",
"vgg_test_eval_01 = model_01.evaluate_generator(test_generator)\n",
"\n",
"print('Validation loss:     {0:.2f}'.format(vgg_val_eval_01[0]))\n",
"print('Validation accuracy: {0:.2f}'.format(vgg_val_eval_01[1]))\n",
"print('Test loss:           {0:.2f}'.format(vgg_test_eval_01[0]))\n",
"print('Test accuracy:       {0:.2f}'.format(vgg_test_eval_01[1]))"
]
},
{
"cell_type": "code",
"execution_count": 23,
"metadata": {},
"outputs": [
{
"name": "stdout",
"output_type": "stream",
"text": [
"2796/2796 [==============================] - 361s 129ms/step\n"
]
}
],
"source": [
"filenames = test_generator.filenames\n",
"nb_samples = len(filenames)\n",
"vgg_predictions_01 = model_01.predict_generator(test_generator,\n",
"                                                steps = nb_samples,\n",
"                                                verbose=1)\n",
"vgg_pred_labels_01= np.argmax(vgg_predictions_01, axis=1)\n"
]
},
{
"cell_type": "code",
"execution_count": 24,
"metadata": {},
"outputs": [
{
"name": "stdout",
"output_type": "stream",
"text": [
"              precision    recall  f1-score   support\n",
"\n",
"     healthy       0.73      0.97      0.83      1398\n",
"    infected       0.96      0.63      0.76      1398\n",
"\n",
"    accuracy                           0.80      2796\n",
"   macro avg       0.84      0.80      0.80      2796\n",
"weighted avg       0.84      0.80      0.80      2796\n",
"\n"
]
}
],
"source": [
"# Classification Report\n",
"print(classification_report(test_generator.classes, vgg_pred_labels_01, \n",
"                            target_names=['healthy', 'infected']))\n",
"vgg_conf_mat_01 = pd.DataFrame(confusion_matrix(test_generator.classes, vgg_pred_labels_01), \n",
"                        index=['healthy', 'infected'], \n",
"                        columns=['healthy', 'infected'])\n"
]
},
{
"cell_type": "code",
"execution_count": 25,
"metadata": {},
"outputs": [
{
"data": {
"image/png": "iVBORw0KGgoAAAANSUhEUgAAAWAAAAFWCAYAAABXQkf8AAAABHNCSVQICAgIfAhkiAAAAAlwSFlzAAALEgAACxIB0t1+/AAAADh0RVh0U29mdHdhcmUAbWF0cGxvdGxpYiB2ZXJzaW9uMy4xLjEsIGh0dHA6Ly9tYXRwbG90bGliLm9yZy8QZhcZAAAgAElEQVR4nO3deVyU1f7A8c+wg+yrC264obmWSy65gVpmZqamlZaaWpp2Xa7ZYmbeXPK6Ze6WmppbKVpmKuKWS+JKZoobbigIAyKLAnJ+f/BzbojAyMDMMHzf9zWvyzzzPM/5zgx9PXzPec6jUUophBBCGJ2VqQMQQojSShKwEEKYiCRgIYQwEUnAQghhIpKAhRDCRCQBCyGEidiYOgAhhMjPvUzDjncw4ywnPWAhhDARM/63QQghwJIvFZMELIQwawpDM7CmSOIoDpKAhRDmzYJ7wFIDFkIIE5EesBDCrFlwB1gSsBDCvMkgnBBCmIglD8JJDVgIIUxEesBCCPMmJQghhDANC86/koCFEOZNBuGEEMJEDB+EM18yCCeEECYiPWAhhFmz5BKE9ICFEMJEpAcshDBr0gMWQghR5KQHLIQwa5Y8C0ISsBDCrFlyCUISsBDCrFlw/pUELIQwcxacgWUQTgghTER6wEIIs1bcg3Dz58/n+PHjuLm5MWPGDABWrlzJsWPHsLGxwc/Pj6FDh1KmTBliY2MZOXIk5cuXB6BGjRoMHjwYgEuXLjFv3jzS09Np1KgR/fv3R6PJfy1iScBCCLNW3INwbdu25fnnn2fevHm6bfXr1+f111/H2tqaVatWsWnTJt58800AypYty/Tp03OdZ8mSJQwZMoQaNWowZcoUTp48SaNGjfJtW0oQxUApRdWqVdFoNFy4cMHU4ZiduLg43n//fQICAnBwcKB8+fJ06tSJkJAQU4dWaAcOHKBZs2Y4OjpStWpVvv76a72O27lzJy1btsTNzQ0/Pz9eeeUVzp07l2u/JUuWUKNGDRwcHHjmmWfYtWtXUb8Fs6UMfBSkTp06ODs759jWoEEDrK2tAahZsyZarTbfcyQkJJCWlkbNmjXRaDS0bt2a8PDwAtuWBFwMDh06RFRUFABr1641bTBmJiMjg3bt2rFt2zY++eQTfvvtN7766iv8/PxKbFK5cOECnTp1omrVqmzdupUhQ4YwatQoli5dmu9xx44d48UXX6RChQps2LCB+fPnc+nSJTp06EBSUpJuv7Vr1/Luu+/Sr18/tm3bxlNPPUWXLl04ffp0cb8181DcGbgAYWFhNGzYUPc8NjaWsWPHMmHCBP7++28AtFotXl5eun28vLwKTNogJYhisWbNGsqUKUPdunVZs2YNn376qalD0rl37x4ODg4ma3/Pnj2cPn2aI0eO0KRJE932N998E2WECZ9paWk4OjoW6TmnT59O+fLlWbVqFTY2NrRv356rV68yceJEBg4cmGcdcMOGDXh6evLDDz9gY5P9n2KNGjVo0KABBw4c4IUXXgBgwoQJvPXWW4wfPx6ANm3acOLECaZOncqqVauK9L1YotDQUEJDQ3XPg4ODCQ4O1uvYjRs3Ym1tzXPPPQeAh4cH8+fPx8XFhUuXLjF9+nRmzJhR6N9d6QEXsQcPHrBhwwa6du3KgAEDOHPmDBEREbn2u3LlCn369MHb2xsnJyfq16/PDz/8oHs9LS2NsWPHUrlyZezt7alatSofffSR7nWNRsM333yT45yff/453t7euufLly9Ho9Fw5MgR2rZti6Ojo652NW7cOOrVq4ezszP+/v688cYb3Lp1K1ecS5YsoV69ejg4OODn50ePHj24c+cOW7duxcrKisuXL+fY//Lly1hZWbFly5bHfj6JiYlAdh3tUY8mqoiICF566SXc3d1xdnamadOm7Ny5M0db3bp1w9XVFRcXF1566aVcJR+NRsPMmTP517/+hY+PD/Xq1dO9tnnzZho3boyDgwNly5Zl7NixZGRkPDbu/Gzbto3u3bvrkihA7969uX79er691IyMDJycnHIc5+7uDqD7D/rSpUtERkbSq1cv3T5WVlb07NmTbdu2PXGsJZEy8H/BwcFMnTpV99A3+e7Zs4djx44xYsQI3e+mra0tLi4uAAQEBODn58fNmzfx8vIiPj5ed2x8fDyenp4FtiEJuIiFhYURExND79696dGjB7a2tqxZsybHPrGxsTRv3pzw8HD++9//8vPPPzNw4ECuXbsGZP/H9/LLL7NgwQKGDRvGr7/+ysSJE4mLiytUTH369KFLly78+uuvdOnSRRfDxx9/zNatW5k9ezaXLl2iffv2PHjwQHfcf/7zH4YMGUKbNm0ICQlhwYIFuLm5kZyczPPPP0/58uVZsWJFjraWL1+Oj48PnTt3fmwsDRs2xMrKigEDBvD777+TmZn52P3Onj1Ly5YtuXnzJgsXLmTTpk288sorus/o/v37BAUF8ffff7NkyRKWL1/O5cuXadOmTa4//aZPn87NmzdZuXKlrja7fv16unfvTtOmTdmyZQsTJkxg8eLFOf6Ri4qKQqPRsHz58jw/25SUFK5du0ZgYGCO7bVr19a9j7y8+eabREdHM23aNBISErh27RqjRo0iMDCQoKCgHMc/7vxarZbbt2/neX5LoZRhj8I4efIkmzdv5sMPP8Te3l63PSkpiaysLABiYmK4efMmfn5+eHh44OjoSGRkJEop9u3bR+PGjfV5c6Io9e/fX7m7u6v79+8rpZTq3LmzqlKlisrKytLtM27cOOXk5KSio6Mfe47ffvtNAWrz5s15tgOouXPn5tg2YcIE5eXlpXu+bNkyBajZs2fnG3NmZqa6fv26AtTevXuVUkolJCQoR0dHNXLkyDyP++STT3K8t6ysLFW5cmU1evTofNubMWOGsrW1VYBycHBQnTp1UuvXr8+xT+/evVWFChVUamrqY8+xYMECZW1trS5evKjbdu3aNWVra6smT56s2waohg0b5jg2KytLVapUSb399ts5tn/77bfKwcFBxcXFKaWUioqKUtbW1mrFihV5vpeHn9umTZtybM/IyFCAWrRoUT6fhFI7d+5U7u7uuoplYGCgunLliu71VatWKUAlJCTkOg5Q586dy/f8luB6wn2DHgWZNWuWGjRokOrdu7caMmSI2rVrl3r//ffVu+++q8aMGaPGjBmj+x4PHTqkRo4cqcaMGaPGjh2rwsPDdee5cOGCGjVqlHr//ffV0qVLc/w3nxdJwEXo3r17yt3dXfXv31+3beXKlQpQBw8e1G1r2rSp6t69e57nGTt2rPL09My3rSdJwOfPn891/K+//qqaN2+uXF1dcwxZLFmyRPc6oCIiIvKM4eLFi0qj0aiwsDCllFK7du1SgDp9+nS+sSuVnbjmzZunevbsqUtA48aN073u6+urRo0alefx/fv3V02aNMm1vW3btqpz586654D65JNPcuxz9uxZBahff/1VZWRk6B6XL19WgNqzZ0+B8f/zfQAqJCQkx/aHCXjx4sV5Hnv69Gnl4+OjBgwYoEJDQ9XmzZtV8+bN1VNPPaXu3LmjlPpfAk5MTMxx7I4dOxSgIiMj9Y61pCruBGxKUoIoQtu2bSMxMZHOnTuTmJhIYmIibdu2xd7ePkcZIj4+nnLlyuV5noJef1J+fn45noeHh9O1a1f8/f1ZuXIlhw4d4vDhw0D2IN3DGIB84wgICKBt27YsW7YMgGXLltG0aVOeeuqpAmOqUKECQ4cOZf369Vy/fp3nn3+e6dOn69ot6DN4+Kff497royWIR/d7WMrp3Lkztra2ukfVqlUBdGUOfTys2T6sbT+UkJCQ4/XHGT9+PDVq1ODbb78lKCiIrl27snXrVi5fvqybQeHh4fHY8z98nt/5LYUpShDGIrMgitDDJNuzZ89cr61fv55Zs2ZhbW2Nl5cXN2/ezPM8Bb0OYG9vT3p6eo5teU17eXRwa9OmTfj4+LBu3Trda1euXMkVA2Qnun8O7D3qnXfeYdCgQUyZMoWNGzfqriR6EmXKlGHo0KH89ttvXLhwAS8vrwI/g3LlyvHXX3/l2h4TE5Nr8OPR9//w9cWLFz92ovzDRKxv7BUrVsxV682rdvvoPu3atcuxzcPDg8qVK3Px4sUcx589e5bKlSvnONbT0xMfHx+9Yy25zDyLGkB6wEUkOTmZX375hT59+rB79+4cj5kzZxITE8Pu3bsBCAoKYvv27cTExDz2XEFBQWi1Wn755Zc82/P399fNQQTIysoiLCxMr1jT0tKwtbXNkZhWr16dY5/mzZvj6OiYa5DtUd27d8fOzo7evXuTlZVF7969891fq9U+duDt/PnzAPj6+gLZn8H69et1PfJHNWvWjGPHjuWYhXHjxg0OHjxIq1at8o2hVq1aVKhQgaioKBo3bpzr8c/5nPp44YUX2LRpU44BzHXr1lGxYkXq1q2b53GVK1fmxIkTObbFx8cTFRVFlSpVgOy/MmrWrMmGDRt0+2RlZbFhwwbdNDVLZ8k9YKkBF5GHtbrDhw/nei09PV15eXmpAQMGKKWUio2NVRUqVFA1atRQy5cvV7t27VLffPONmjZtmlIqe5CoU6dOysXFRU2fPl3t2rVLrVq1Sg0ePFh3zjFjxihHR0c1b948tW3bNvXqq6+qihUrPrYGfPfu3RzxbN26VQHqgw8+UKGhoeqLL75QNWvWzFVXnjx5stJoNGr48OFq27ZtKiQkRA0aNEhdv349x/mGDRumANWnT58CP6cNGzao6tWrqy+//FLt2LFD176Tk5Pq0qWLbr+zZ88qFxcX1aRJE7V27Vq1c+dO9dVXX6lvv/1WKZVdb69ataqqVauWWrdunfrxxx9V3bp1Vfny5VV8fLzuPI++p4fWrl2rbG1t1fvvv6+2bt2qdu7cqRYtWqReeOEFlZKSopTSbxBOKaXOnz+vypQpo/r06aPCwsLUtGnTlI2Nja6e/pC1tbWaOHGi7nlISIgC1FtvvaV+++039dNPP6mmTZsqNzc3dePGDd1+P/zwg7KyslKTJk1SYWFh6q233lIODg7qzz//LPDztgRX4u8Z9DBnkoCLyIsvvqhq1KiR5+vvvfeecnd3V/fuZf9CREVFqV69eil3d3fl6Oio6tevr9asWaPbPzU1VY0ePVpVqFBB2dnZqSpVqqiPP/5Y9/rdu3dVv379lIeHh/Lz81OTJk3KcxDu0QSslFLTpk1T/v7+ysnJSQUFBanIyMjHJquFCxeq2rVrKzs7O+Xn56d69uypGyB66OGI/M6dOwv8nK5evapGjx6tGjRooNzc3JSzs7OqW7eumjx5si7xPXTq1Cn1wgsvKGdnZ+Xs7KyaNm2qQkNDda9fvHhRvfzyy8rZ2VmVKVNGvfjii7kGpfJKwEplDzS2atVKOTk5KRcXF9WgQQP1ySefqIyMDKWU0g3KLVu2rMD3tX//ftWkSRNlb2+vKleurObMmZNrH0BNmDAhx7Z169apxo0bKxcXF+Xj46NeeOEFdeLEiVzHLl68WFWrVk3Z2dmpRo0a5fgcLJ0lJ2CNUmbfSRdmbuzYsaxbt053EYYQRelK/H2Djq/sZV/wTiYig3Ci0M6dO8eZM2dYsGABEyZMkOQrioUl3xNOesCi0Nq2bcsff/xB165dWblyJXZ2dqYOSVigqLjHD8Tqq4q36dY+KYgkYCGEWbPkBCwlCCGEWbPkHqIkYCGEWbPkv9FLTAKOjo42dQhCiEJ6eA+1wrDkQbgSk4CFEKWU5eZfuRRZCCFMRXrAQgizZsEdYEnAQgjzJoNwZsCQIr4QouSy5EE4qQELIYSJlJgeMMC9x9+/UZRwDv//W+jY6H3TBiKKRdqJbwreKT+W2wEuWQlYCFH6WHD+lQQshDBvMggnhBAmIoNwQgghipz0gIUQ5s1yO8CSgIUQ5s2C868kYCGEeZNBOCGEMBEZhBNCCFHkpAcshDBvltsBlgQshDBvFpx/JQELIcybJQ/CSQ1YCCFMRHrAQgizZsmzICQBCyHMm+XmX0nAQgjzZsH5VxKwEMK8ySCcEEKIIic9YCGEWZNBOCGEMBXLzb+SgIUQ5s2C86/UgIUQwlSkByyEMGuWPAtCErAQwqzJIJwQQpiK5eZfScBCCPNmwflXBuGEEMJUpAcshDBrMggnhBAmIoNwQghhKpabf6UGLIQQpiI9YCGEWbPgDrAkYCGEecuy4FE4ScBCCLNmuelXErAQwswVdwd4/vz5HD9+HDc3N2bMmAFAcnIys2bN4vbt2/j4+DBy5EicnZ1RSrFs2TJOnDiBvb09Q4cOJSAgAIA9e/awceNGALp3707btm0LbFsG4YQQpVrbtm35+OOPc2wLCQmhXr16fP3119SrV4+QkBAATpw4wa1bt/j6668ZPHgwS5cuBbIT9o8//sjkyZOZPHkyP/74I8nJyQW2LQlYCGHWlIH/K0idOnVwdnbOsS08PJw2bdoA0KZNG8LDwwE4evQorVu3RqPRULNmTVJSUkhISODkyZPUr18fZ2dnnJ2dqV+/PidPniywbSlBCCHMWpYJisB37tzBw8MDAA8PD5KSkgDQarV4e3vr9vPy8kKr1aLVavHy8tJt9/T0RKvVFtiOJGAhhFkz9Eq40NBQQkNDdc+Dg4MJDg4uXCyPKUhrNJrH7pvX9n+SBCyEMGuGDsIVJuG6ubmRkJCAh4cHCQkJuLq6Atk93ri4ON1+8fHxeHh44OnpyZkzZ3TbtVotderUKbAdqQELIcQjGjduzN69ewHYu3cvTZo00W3ft28fSikiIyNxcnLCw8ODhg0bcurUKZKTk0lOTubUqVM0bNiwwHakByyEMGvFvRjP7NmzOXPmDHfv3uXdd9+lV69edOvWjVmzZhEWFoa3tzejRo0CoFGjRhw/fpwRI0ZgZ2fH0KFDAXB2dubVV1/lo48+AqBHjx65BvYeR6MeV9QwU/cyTR2BKA4O/98NcGz0vmkDEcUi7cQ3Bh2/8++4gnfKR4fa3gXvZCLSAxZCmDVLXo5SasBCCGEi0gMWQpi1klMkfXKSgIUQZk0SsBBCmEiWBdeAJQELIcyaJfeAZRBOCCFMRHrAQgizZsnT0CQBCyHMmiWXICQBCyHMmgzCiSf22acfsW/vHjw9vdi4+RcAvvl6Nnt278JKY4WHlxeTvpyCr68fAOFH/mD61MlkZGbi4eHBdytWcf/+ffr3e4OM9HQyHzygQ8dODH1/RK620tPT+eSjsfz911+4ubvz1YxZVKjgb9T3K8DezobQb/+FnZ0NNtbWbAo9wX8W/sriiW/y3DPVuZN8D4DBn60kIvJGruPfeKkZ497pBMDUpdtZ/fMfRo1fGJ+sBVFMjh0Nx8nJiU8++lCXgJOTk3ULdKxe9T2XLl5g/IQvSEpK4q03ejN/0VLKlS9PfHw8Xl5eKKVIS03FqUwZMjIyeLvv63z40SfUb5BzlaV1a1YTGXmO8RO+YNuvWwnbtZPpM2Yb/T0XliWtBVHG0Y6UtHRsbKwI+24UY6b/yDs9WrFt/2k2heZ9hwQPVycOrB5Lyze+QinFwR8+pMXr00i8m2bE6IuHoWtBhETcMuj4bvXLGnR8cZJZEMXkmcZNcHVzy7Htn6sj3UtL0y3YvG3rzwQFd6Bc+fIAupX1NRoNTmXKAJCZmUlmZiY8ZpHn3WFhdH35FQA6dOzEkcOHHrtwtCh+KWnpANjaWGNjY63399ChRW12HT5LQlIqiXfT2HX4LB1bFryebGmgDHyYM6Mm4KtXrxqzObM0d84sOga1YesvPzP0/Q8AuBIVRVJSEgPf7kvvnt35eXOIbv8HDx7Qq/vLtHuuBc82b0H9+g1ynTM2NoayZcsBYGNjg7OLC4mJCcZ5QyIHKysNh9eO4+quqYQdPkv46SsAfD7sJY6s+4ivRnfHzjZ35a+8jzvXY/73nd2ITaS8j7vR4jZnSimDHubMqAl4yZIlfPTRR2zfvp2UlBRjNm02hn8wkh279vJil5dY+8MqADIfPODMmb+YO38RCxYvZfHC+URFXQbA2tqa9Rs3syNsL6f/jOD8+chc53yS26SI4pWVpXi291Sqd/qUxnUrU6daOT6bu4UGr0yi1ZvT8XArw+j+ue/O8Livy5KnXz2JLAMf5syoCXjSpEmMGDGC+Ph4xo0bx5w5c4iIiMhz/9DQUMaNG8e4ceOMGKVxvPBiF0J37gDAz68sLVs99/+r63vydOPGRJ47m2N/V1dXmjRtxsHf9+c6l59fWW7duglklyqS797FzU16T6Z0JzmNfUfP07FFHW7FZd/QMT0jk+83H6bxU1Vy7X8jNhF/Pw/d8wq+7ty8fcdY4QoTMXoNuFy5cvTu3Zs33niDM2fOsGzZMv71r3/xxx+5R3yDg4OZOnUqU6dONXaYxeLKlSjdz3t2h1G1agAA7doHcfzYUTIzM0lLS+PPiAiqBlRDq9Xq7sZ67949Dh86SJX/P+af2rZrz5bNmwDYuWM7TZs9Kz1gE/D2cMbN2REAB3tb2jerxbmoGMp6u+r26dquPmcuRuc6dufBvwluHoi7iyPuLo4ENw9k58G/jRa7ObPkEoRRp6FduXKF3bt3c+LECerVq8eHH35IQEAAWq2WTz/9lGbNmhkznGL14ZhRHA0/QmJiAh3at+a9YcP5fd8+oqIuY2WloVy5Cnw6YSIAAdWq0bLVc/R8pSsaKyu6v9qDGjVqEnnuLJ9+PI6srAdkZSk6dnqeNm3bATBv7hyeeqoubdsH8cqrPfhk3L/p8nwHXN3c+Oq/s0z51kutst6uLPmiL9ZWVlhZafhp53G27T/NtkXD8fZwQaOBiHPXGf7lWgCerlOJd3q0YugXP5CQlMqUJb/x+6qxAExe/BsJSammfDtmw7xTqGGMOg1twoQJtG/fnubNm2NnZ5fjtX379tG6det8jy9J09CE/ixpGprIzdBpaOtO5J4z/SRea1TBoOOLk1F7wBMnTszztYKSrxBCWBqjJuCzZ8+yYcMG4uLiePDgAUopNBoN33xj2L+QQgjLZe4zGQxh1AS8cOFC3nrrLQICArCykmtAhBAFM/eBNEMYNQE7OTnRqFEjYzYphCjhLDj/GicBX7p0CYCnnnqKlStX0qxZM2xs/td0QEDuqVVCCAGWPQvCKAl45cqVOZ4/TMgPTZgwwRhhCCGEWTFKAn6YYGNiYvDz88vxWkxMjDFCEEKUUFkWXIMw6kjYzJkz9domhBAPWfJqaHn2gH/55Re9T9KlS5d8X79x4wbXrl0jNTU1xyXHaWlpZGRk6N2OEKL0KZWzILZt26bXCTQaTYEJODo6muPHj5OSksKxY8d02x0cHBgyZIieoQohSqNSOQ943rx5RdZIkyZNaNKkCZGRkdSsWbPIziuEECWZUQbhvvvuO93Pv//+e67XBwwYYIwwhBAlkAVXIPRLwEopduzYwfbt24mNjWXGjBn4+fkREhKCr68vLVq0yPd4mecrhCgsS54FoVcC/vXXX9myZQsvv/wyq1ev1m339PRk+/btBSbgtm3bGhSkEKL0suD8q18C3rlzJ0OGDOHpp59m7dq1uu1Vq1bl2rVrejeWlJRESEgIN27cID09XbddLsQQQpRGes0Dvn37NhUrVsy13draOkciLcjXX3+Nv78/sbGx9OzZEx8fH6pVq6Z/tEKIUidLKYMe5kyvBOzn58fly5dzbT9x4gT+/v56N3b37l3at2+PtbU1derUYejQoZw/f17/aIUQpU6WMuxhzvQqQbz00kt8++233L9/H6UUkZGR7Nu3jy1btvDee+/p39j/L8Dj4eHB8ePH8fDwQKvVFi5yIUSpYOadWIPolYDbtWvHgwcPWLNmDenp6XzzzTd4enrSv3//Agfg/ql79+6kpqbSt29fli1bRmpqKm+99VahgxdCWL4ss7+guPCe+J5wSUlJKKVwc3MrrpjyJPeEs0xyTzjLZug94eYeyF3+fBLDW1Y16Pji9ESL8dy6dYvz589z4cKFQq1iFh0dzRdffMHo0aOB7Lsk//TTT098HiFE6aGUYQ9zplcJ4u7duyxYsIBjx46h0WiA7IsznnnmGd577z1cXFz0amzRokX07duXxYsXA1C5cmW+/vprXn311UKGL4SwdOY+kGYIvRLwwoULiYmJYeLEidSoUQOA8+fPs3TpUhYtWsSYMWP0aiw9PZ3q1avn2Cb3hhNC5Mfcp5IZQq/sd+rUKYYMGUJgYCDW1tZYW1sTGBjI4MGDOXXqlN6Nubi4cOvWLV0v+vDhw3h4eBQuciGEKOH06gG7urpib2+fa7udnR3Ozs56NzZw4EAWL17MjRs3GDJkCL6+vowYMUL/aIUQpY4Fd4D16wH36NGD5cuX55izq9VqWblyJT169NC7MU9PT9q2bUv37t1p2bIl9evXZ+/evU8etRCi1CiVF2KMHj1aVyoAiI2NZdiwYXh6egLZCdjW1pY7d+4QFBSkV2NfffUVZcqUoWrVqlJ6EELopVTeEePZZ58t8sa0Wi2ffPJJkZ9XCGG5zL0Xa4g8E3DPnj2LvLGaNWty9epVKlWqVOTnFkKIksYod8R4WM548OABe/bswdfXF1tbW5RSaDQa/vvf/xojDCFECVQqe8D/lJmZycaNGzlw4ABxcXFkZua8JnjdunX5Hj9u3LjCRyiEKNWUBa8FoVcCXrt2LYcOHaJbt26sWLGCvn37Ehsby8GDB3nttdcKPN7Hx8fgQIUQpZMl94D1moZ26NAhBg0aRIcOHbCysqJx48YMGDCAXr16ERERUdwxCiGERdKrB3znzh3dwusODg6kpqYC0LBhwxz3iBNCiKJW3LPQoqOjmTVrlu55bGwsvXr1IiUlhV27duHq6gpAnz59ePrppwHYtGkTYWFhWFlZ0b9/fxo2bFiotvVKwN7e3mi1Wry9vSlbtiwnT54kICCAyMhI7OzsCtWwEELoo7jXgihfvjzTp0/PbisriyFDhtC0aVN2797Niy++SNeuXXPsf/36dQ4ePMjMmTNJSEhg0qRJzJkzp1Dr2uiVgJs2bcrp06epWbMmnTt3Zs6cOezatQutVpsrOCGEKErGrAH/+eeflC1bNt9xq/DwcFq0aIGtrS2+vr6ULVuWCxcuULNmzRAqm08AACAASURBVCduT68E/Prrr+t+fvbZZ/Hy8uLcuXOUK1eOZ5555okbFUIIfRnzQrgDBw7QsmVL3fPt27ezb98+AgIC6NevH87Ozmi1Wt2qkJC9xEJhb61WqHnANWrUoEaNGiQkJLBq1SrefPPNQjUuhBDFLTQ0lNDQUN3z4OBggoODc+2XmZnJsWPHdB3Ojh076ta6WbduHd9//z1Dhw4t0kujDboQ486dO/z888+SgIUQxcbQGnBeCfdRJ06coGrVqri7uwPo/h8gKCiIadOmAeDl5UV8fLzuNa1Wq1sj50nJauhCCLNmrFsSPVp+SEhI0P185MgRKlasCEDjxo05ePAgGRkZxMbGcvPmzVw3mtCXUS5FFkKIwsoyQhv3798nIiKCwYMH67atWrWKqKgoNBoNPj4+utcqVqxI8+bNGTVqFFZWVgwcOLDQd/aRBCyEMGvGuCWRvb093333XY5tw4cPz3P/7t270717d4PbzTcBPxrQo+7evWtwAEIIUVrlm4CvXbtW4Anq1KlTZMEIIcSjLHg99vwT8IQJE4wVhxBCPJYlL8YjNWAhhFmz5FsSyTQ0IYQwEekBCyHMmpQghBDCRCQBCyGEiVhyDTjPBJycnKz3SZydnYskGCGEeJQxroQzlTwT8MCBA/U+SUE35RRCCJFbnglY5gALIcxBqSxByBVuQghzYMH598kH4RITE8nMzMyxzdvbu8gCEkKIfzLGYjymolcCTk1N5bvvvuPQoUO5ki8YrwbsIHM2LFraiW9MHYIQRqXXlXDff/89V65c4d///jd2dnZ88MEH9O3bFy8vL0aOHFncMQohSjFjLchuCnr1KU+ePMkHH3xA7dq1sbKyIiAggBYtWuDu7s7OnTt59tlniztOAFrPPGCUdoRx7RuVfReC1ceumzgSURzeeMbfoOMteRBOrx5wSkqK7jbNTk5OunWAa9asSWRkZPFFJ4Qo9Sy5B6xXAi5btiwxMTEAVKhQgQMHDqCU4siRI3IRhhCiWGUpZdDDnOmVgNu0acOVK1cA6NatG6Ghobz++uusXLmSl19+uVgDFEIIS6VXDbhLly66n+vWrcvs2bO5ePEi5cqVo1KlSsUWnBBCmHcf1jCFmtjl7e0tc3+FEEZhyYNweiXgX375Jd/X/9lDFkKIolTql6Pctm1bjucPHjwgISEBOzs73NzcJAELIUQh6JWA582bl2tbYmIiCxYsICgoqMiDEkKIhyy5BFHoe8K5u7vTu3dvVq1aVZTxCCFEDpY8D9ig1RWUUty5c6eoYhFCiFwsuQesVwL+448/cjxXSpGYmMj27dsJDAwslsCEEAJkEI6ZM2fm2ubq6krdunXp169fkQclhBClgV4JWG45JIQwFUsuQeg1CLd3714yMjJybc/MzGTv3r1FHpQQQjykDHyYM70S8Pz580lNTc21PS0tjfnz5xd5UEII8ZAlL8aj9ywIjUaTa1tcXBxOTk5FGpAQQvyTmedQg+SbgEePHq1LvBMmTMDa2lr3WlZWFrdv36ZRo0bFG6EQQliofBPwwztdXLt2jaeffhoHB4f/HWhjg4+Pj9HuhiGEKJ0seRAu3wTcs2dPAHx8fGjZsiW2trZGCUoIIR6y4Pyr3yCcr68v58+fz7X9zJkznDlzpsiDEkKIhyx5EE6vBLxixQqSk5NzbU9NTWXFihVFHpQQQpQGes2CiI6OpkqVKrm2V6pUiejo6KKOSQghdMy8E2sQvXrAdnZ2aLXaXNu1Wi02Ngat5yOEEPlSShn0MGd6JeAGDRrwww8/5ChDJCcns2bNGho0aFBswQkhRJYy7GHO9Oq+9u3blwkTJjBs2DAqV64MwJUrV3Bzc+ODDz4o1gCFEKWbMvsLigtPrwTs4eHB9OnT2b9/P1FRUUD2repbtWqFvb19ccYnhBAWS+8Crr29PcHBwbm2R0REUL9+/SINSgghHjLzMq5BCjWCptVq2b17N2FhYcTFxclylUKIYmPuA2mG0DsBZ2VlcfToUXbt2kVERASVKlWiY8eONG/evDjjE0KUcuY+kGaIAhNwdHQ0u3btYt++fdjb29OqVSsiIiIYPnw4/v7+xohRCCEsUr4J+LPPPuPatWs0a9aMkSNHUqdOHQA2b95slOCEEKLUliAiIyPp1KkTQUFBVKpUyVgxCSGEjgXn3/wT8NSpUwkNDWXChAn4+PjQunVrWrVqZazYhBDC7BfUMUS+CbhKlSq888479OvXj8OHDxMWFsbq1avJysri+PHjuLu74+zsbKxYhRClkAXnX/1mQdjZ2dG6dWtat27NrVu32LVrF1u3bmXt2rXUrVuXjz/+uLjjFEIIi/PE84DLli3LG2+8QZ8+fTh27Bi7d+8ujriEEAIoxYNw+bGysqJJkyY0adKkKOMRQogcLDj/Fj4BCyGEMRijBzxs2DAcHBywsrLC2tqaqVOnkpyczKxZs7h9+zY+Pj6MHDkSZ2dnlFIsW7aMEydOYG9vz9ChQwkICChUu5KAhRCC7Du/u7q66p6HhIRQr149unXrRkhICCEhIbz55pucOHGCW7du8fXXX3P+/HmWLl3K5MmTC9WmXusBCyGEqShl2KOwwsPDadOmDZC9+mN4eDgAR48epXXr1mg0GmrWrElKSgoJCQmFakN6wEIIs2asQbgvv/wSgA4dOhAcHMydO3fw8PAAspfkTUpKArIXI/P29tYd5+XlhVar1e37JCQBCyHMmqEJODQ0lNDQUN3z4ODgXEvrTpo0CU9PT+7cucN//vMfypcv/0TxaDSaQsUmCVgIYdYM7QA/LuE+ytPTEwA3NzeaNGnChQsXcHNzIyEhAQ8PDxISEnT1YS8vL+Li4nTHxsfHF6r3C1IDFkKUcvfu3SMtLU3388Pldhs3bszevXsB2Lt3r27KbePGjdm3bx9KKSIjI3Fycip0ApYesBDCrBV3DfjOnTv897//BeDBgwe0atWKhg0bUq1aNWbNmkVYWBje3t6MGjUKgEaNGnH8+HFGjBiBnZ0dQ4cOLXTbkoCFEGatuMfg/Pz8mD59eq7tLi4ufPbZZ7m2azQa3nnnnSJpWxKwEMKsyaXIQghhIhacf2UQTgghTEV6wEIIsyYlCCGEMBELzr+SgIUQ5s2Se8BSAxZCCBORHrCRrBv4DGkZD3iQpXiQBYN/OEXbGl70b16Jyl6ODPkhgnMxyQC4OtjwxUuBBPo589uZWGaHXXrsOV0cbPj8xVqUc7XnZtJ9JvxyluT7D4z5tgRw+NcfObH7V9Bo8K1YlZeHjOVq5GlCf1iEUgo7e0defncsnmUrsH3lfKLOnAQg4/49UpIS+XDpllznjL4UyZZFX5GRfp8aDZvRqd+wQq83UNJZcAdYErAxfbD+NHfuZeqeX45P5dOfzzImuFqO/dIzs/j2wBWqepchwNspz/O90aQCx68msjr8Bm80qcCbTf1ZuP9KscUvckvS3ubI9k28N/07bO3s+XHOF5w+FMbvm3/gtdGT8KlQmfCdm9kfsoqX3/2QTn3/d9XUke2buBV14bHn/fW72bw4cCT+Nerww1cfceHUEWo0bGast2VWpAQhisUVbRrXEtJybb+XmcWf0XdJz8zK9/hW1bz47UwsAL+diaVVNa9iiVPkL+vBAzLT75P14AEZ6fdw8fBGo9FwPy0VgPupKTi75/5uTh8M46kW7XJtv5sQz/20VCrWfAqNRkOD5zpy7uiBYn8f5spU6wEbg/SAjWjGq0+hgC0Rt/j5zxiDz+fhZEt8SgYA8SkZeDjZGnxO8WRcPX1o/mJPZg/vg62dPQH1GlOtfmO6DBrNmq8+wsbOHntHJwZO/CbHcYm3Y0i8fYuqTzXKdc67CXG4evronrt4enM3IS7XfqWFJfeAjZKA+/Xrl2/9asWKFcYIw6SGrv2T+JR03B1tmdnjKa5q0zh1I8nUYQkDpSXf5dyxg4yYsxoHJ2d+nDORiN93cjb8d/qMnYJ/9doc/HkdO1Yt4KXBY3TH/XUojNpNW2NlZZ3rnI9POKWz/mvpjJKAv//+ewDWrVuHu7s7rVu3RinF77//rlsG7nH+uZDy1KlTjRFqsYlPSQcgMS2D/RfiqV3W2eAEnJCagVeZ7F6wVxlbElIziiJU8QQunz6Ou29Zyri6AxDY5DmunfuLmCsX8a9eG4Cnmrdl9bRxOY7769AeXug/4rHndPX0IUl7W/f8rjYOF4/SW16y4A6wcWvAp06dolOnTjg6OuLk5ETHjh35448/8tw/ODiYqVOnlvjk62BjhaOtte7nJpXduRSfavB5D1zS8nwdXwCer+PL7xfjDT6neDKu3r7cOP83GffvoZTi8l/H8fGvzL3UFOJvXgPg0p/H8C5fWXdMXPQ10lLu4l+jzmPP6eLhhb2jE9fPn0Epxan9O6j1TEujvB9zpJQy6GHOjFoDtrKyYv/+/bRsmf3LdODAAaysLH8c0KOMLV92ze4NWWs0hJ69zZGoRJ6r7skH7QJwd7RlWrfaXLidwpiNZ4DsaWtl7K2xsbKiVTVPRv/0F1e0aYztUJ3NEbc4F5PM6iPXmdilFi/W9SPm7n0+++WcKd9mqeRfvTa1m7Vm8cfvYmVtTdkq1Xm6/Yu4evqwYfZENBoNDmVc6PqP8sPpg2E81bxdrrLcoo8GM2TKYgA6D/iAzQu/IjP9PtUbNKV6w6ZGfV/mxNyTqCE0yojvLjY2luXLl3PuXHaiqFWrFm+//Ta+vr56Hd96ZukdCbZk+0Zl/4O8+th1E0ciisMbz/gbdHy98TsNOv7PSR0MOr44GbUH7Ovry9ixY43ZpBCihLPgDrBxa8DR0dF88cUXjB49GoArV67w008/GTMEIUQJY8k1YKMm4EWLFvH6669jbZ09IFW5cmUOHjxozBCEECWMXIhRRNLT06levXqObaVhEE4IUXhZWWaeRQ1g1Ozn4uLCrVu3dKO/hw8fLvTtnIUQoqQzag944MCBLF68mBs3bjBkyBB8fX0ZMeLxk9GFEALMv4xgCKMmYI1Gw/jx47l3L3vSuqOjI7GxscYMQQhRwpj7QJohjFqCmDFjBgAODg44Ojrm2CaEEI8jg3AGunHjBteuXSM1NTXHpcdpaWlkZMj6BUKI0skoCTg6Oprjx4+TkpLCsWPHdNsdHBwYMmSIMUIQQpRQllyCMEoCbtKkCU2aNCEyMpKaNWsao0khhIWw4Pxr3Brwjh07SElJ0T1PTk5m/vz5xgxBCFHCWPKVcEadBXH16lXKlCmje+7s7ExUVJQxQxBClDDmnkQNYdQesFKK5ORk3fPk5GQePJC7+AohSiej9oC7dOnC+PHjadasGRqNhkOHDtG9e3djhiCEKGkstwNs3ATcpk0bqlWrxunTp1FKMWbMGPz9DVsrVAhh2Sy5BGH0uyInJydjb29Pu3btSEpKIjY2Vu8F2YUQpY8lJ2Cj1oA3bNhASEgIISEhAGRmZjJ37lxjhiCEKGEseRaEURPwkSNH+PDDD7G3twfA09Mz37siCyGEJTNqCcLGxgaNRqNbjvLevXvGbF4IUQKZey/WEEZNwM2bN2fx4sWkpKQQGhrK7t27CQoKMmYIQoiSxnLzr3EScEZGBra2tnTt2pWIiAgcHR2Jjo7mtddeo379+sYIQQhRQkkP2ECffvop06ZNY+7cuQwfPlySrhBCYKQEnJmZyZ49e4iMjMyxHOVDzZo1M0YYQogSSHrABho0aBD79+/PtRzlQ5KAhRB5kQRsoMDAQAIDA6lWrRrt27c3RpNCCEthufnXuLMg2rdvz7lz57h9+3aORXjatGljzDCEECWI9ICLyNy5c4mJiaFKlSpYWf3vGhBJwEKI0sioCfjSpUvMnDlTdyGGEEIUxJJ7wEa9FLlixYokJiYas0khRAlnyWtBGLUHfPfuXUaNGkX16tWxsflf0x9++KExwxBClCDmnkQNYdQE3LNnT2M2J4QQZs2oCbhOnTrGbE4IYQkstwNsnAQ8fvx4Jk2aRL9+/XIMwCml0Gg0rFixwhhhCCFKIClBGGjSpEkAfP/998ZoTghhQSQBCyGEiVhyAjbqNDQhhBD/Iz1gIYR5K+YOcFxcHPPmzSMxMRGNRkNwcDCdO3dm/fr17Nq1C1dXVwD69OnD008/DcCmTZsICwvDysqK/v3707Bhw0K1LQlYCGHWirsEYW1tTd++fQkICCAtLY1x48bp1ix/8cUX6dq1a479r1+/zsGDB5k5cyYJCQlMmjSJOXPm5FheQV9SghBCmLXivhLOw8ODgIAAABwdHalQoQJarTbP/cPDw2nRogW2trb4+vpStmxZLly4UKj3JglYCCH+X2xsLJcvX6Z69eoAbN++nTFjxjB//nySk5MB0Gq1eHl56Y7x9PTMN2HnR0oQQgizZmgJIjQ0lNDQUN3z4OBggoODc+137949ZsyYwdtvv42TkxMdO3akR48eAKxbt47vv/+eoUOHFmlJRBKwEMKsGZrw8kq4/5SZmcmMGTN47rnndHfocXd3170eFBTEtGnTAPDy8iI+Pl73mlarxdPTs1CxSQlCCGHelIGPgk6vFAsXLqRChQp06dJFtz0hIUH385EjR6hYsSIAjRs35uDBg2RkZBAbG8vNmzd1JYsnJT1gIYRZK+5ZEOfOnWPfvn1UqlSJf//730D2lLMDBw4QFRWFRqPBx8eHwYMHA9nL6jZv3pxRo0ZhZWXFwIEDCzUDAiQBCyFKucDAQNavX59r+8M5v4/TvXt3unfvbnDbkoCFEGbNki9FlgQshDBrkoCFEMJEJAELIYSpWG7+RaMs+Z+XEiw0NLTAuYui5JLvV39leiwz6PiUH/sXUSRFT+YBm6l/XrkjLI98v/qTuyILIYSJmHsSNYQkYCGEebPgBCwlCDMl9UHLJt+vABmEE0KYOcduiw06Pi1kcBFFUvSkBCGEMG8W3EeUEkQRi42NZfTo0QafZ8+ePXz77bdA9kpM169f1732+eefc/HiRYPbEPr79NNPC9zn77//ZtSoUfz73/8mPT39ic7/6Hesr759+z7xMSWOyjLsYcYkAZcA4eHhhfqPUxSd//znPwXus3//fl566SWmT5+OnZ3dE51fvuN8KGXYw4xJCaIYZGVlsXDhQiIjI/H09GTs2LFotVq+/fZbkpKSsLe3Z8iQIVSoUIGjR4+yceNGMjMzcXFxYfjw4TkWgj537hxHjx7lzJkz/PTTT7re9aFDh1i6dCmpqam8++671K5dm88++4wBAwZQpUoVAMaPH88777xD5cqVTfExWJS+ffuycuVK/vrrLzZs2ICLiwvXrl0jICCA4cOHExYWxqFDhzh16hR//vknI0aMYMuWLRw6dIiMjAyaNm1Kr169ANi7dy8///wzGo2GSpUq0bFjx8d+x4/7fYmNjWXOnDlkZWXRoEEDU34koghIAi4GN2/e5IMPPuDdd99l5syZHD58mD179jBo0CDKlSvH+fPnWbp0KRMmTCAwMJAvv/wSjUbDrl272LJlC/369dOdq1atWjRu3JhnnnmGZ599Vrc9KyuLKVOmcPz4cX788UfGjx9P+/bt2bNnD2+//TbR0dFkZGRI8i0Gly9fZubMmXh4eDB+/HjOnTtHUFAQZ8+e1X1Pp06d4ubNm0yePBmlFF999RVnzpzBxcWFjRs3MmnSJFxdXUlOTsbZ2TnXd/zFF1889vdl2bJldOzYkTZt2vDbb7+Z+JMwEjMvIxhCEnAx8PX11fVCAwICuH37NufOnWPmzJm6fTIzM4Hs25nMnj2bhIQEMjMz8fX11auNpk2b6s4fGxsLQPPmzfnpp59488032b17N23bti26NyV0qlevrrspY5UqVYiNjSUwMDDHPqdOnSIiIoKxY8cC2fcbu3XrFleuXOHZZ5/F1dUVAGdn51znv3fvXp6/L+fOndP1kFu3bs3q1auL/g2aG0nA4knY2trqfraysuLOnTuUKVOG6dOn59r3u+++o0uXLjRu3Fj35+2TtGFlZUVWVvYvqL29PfXr1+fo0aMcOnSIqVOnFsG7EY969Pt9+Pk/qlu3bnTo0CHHtl9//RWNRpPv+bOysvL8fQEKPN7imHkd1xAyCGcEjo6O+Pr6cujQISD70sqoqCgAUlNTdTf027t3b57Hp6Wl6dVWUFAQy5Yto1q1ao/tXQnjaNCgAbt37+bevXtA9l86d+7coV69ehw6dIi7d+8C6G51/s/v2MnJKc/fl1q1anHgwAEAfv/9d2O+JVEMpAdsJCNGjGDJkiW6AbeWLVtSpUoVevbsycyZM/H09KRGjRq6csI/tWjRgkWLFrFt2zZGjRqVbzsBAQE4OjrSrl274norQg8NGjTgxo0bfPLJJwA4ODgwfPhwKlasyCuvvMLnn3+OlZUVVapUYdiwYbm+47x+X/r378+cOXPYtm2b7u69Fs+CSxByJZyF0Wq1TJw4kVmzZhX6RoFCmBPH52cWvFM+0n7Lv9NiStIDtiB79+5l7dq19OvXT5KvsBwW3AOWBGxB2rRpQ5s2bUwdhhBFy4L/SJdukhBCmIj0gIUQ5k1KEEIIYSJSghCl2ejRo1m/fr3u+bBhw9iyZYvR47h48SK9evV67FS9orJ+/foiWc3OVJ+RRbLg1dCkB1wCzZs3T3fRhrW1NV5eXrrFXhwcHIq9/SlTpmBvb6/Xvg+X1Vy5cmUxR5Xt888/p2LFigwcONAo7QlhCEnAJVS9evUYPnw4mZmZnD17loULF3L//n0GDRr02P0zMzOxsSmar/vhOgZCGIUFlyAkAZdQtra2umUrW7VqxenTpwkPD2fQoEH89ddfTJw4kXHjxrFhwwaioqIYM2YMzzzzDEePHmXDhg1cv34dd3d3WrVqRc+ePXXJ+c6dOyxatIhTp07h5uZGjx49crU9bNgwOnXqRNeuXYHsy6lXr15NeHg4KSkp+Pr60rNnT9zc3Jg/fz6AbinGHj160KtXLzIzM1m7di2///47KSkp+Pv789prr9GwYUNdOydPnmT58uXcvn2batWq0bFjR4M/t9WrV3PkyBHi4uJwd3enefPm9OrVK9f6vbt27eLHH38kKSmJBg0a8O677+b4h2f37t1s2bKF2NhYvL296dChA507d5b518XBzMsIhpAEbCHs7Ox48OBBjm2rV6+mX79+lC1bFkdHR06ePMncuXN5++23qV27NnFxcSxZsoSMjAzdEpjz58/n9u3bjB8/Hnt7e1asWJFvzVUpxZQpU0hOTmbo0KGUK1dOtxRmrVq1ePvtt1mzZg1z584F0JVI5s+fT0xMDCNGjMDLy4sTJ04wbdo0pkyZQpUqVYiLi2P69OkEBQXRqVMnrly5wvfff2/w52Rvb897772Hp6cn169fZ8mSJdjY2NC7d2/dPrGxsezfv5+xY8dy//59Fi9ezIIFC/jwww8BCA0NZf369QwYMICAgACuXr3KokWLsLGx4fnnnzc4RvGILMvtAcs/1xbgwoULHDhwgLp16+bY3rNnTxo0aICfnx+urq5s2rSJl156iXbt2lG2bFnq1q3LG2+8wc6dO1FKER0dzYkTJxg8eDCBgYFUrVqVYcOG5Xt7nT///JPIyEhGjx5Nw4YN8fPzo1GjRjRt2hQbGxucnJwAcHd3x93dHQcHB27dusWBAwcYOXIkderUwc/Pj+eff55GjRoRGhoKwI4dO/D29qZ///5UqFCBFi1a5FpZrDB69OhBYGAgvr6+PP3007zyyiu6xW0eSk9P5/3336dq1aoEBgYyePBgjh07xs2bNwF0S34+++yz+Pr60rhxY7p168b27dsNjk88hgzCCXNz8uRJ+vbtS1ZWFpmZmTRp0oQBAwbk2KdatWo5nl+6dIkLFy6wefNm3TalFOnp6SQmJnLjxg00Gg3Vq1fXve7j46Nbre1xLl++jLu7O/7+/nrHfvnyZZRSjBw5Msf2zMxM3T8iN27coEaNGjmWXqxZs6bebeTl8OHDbN26lVu3bnHv3j2ysrJyLSfp6emJt7e37nn16tXRaDTcuHGDMmXKEB8fz+LFi1myZIlun6ysLGRZFfGkJAGXULVr12bIkCFYW1vj4eHx2AG2R2cqZGVl0aNHD5o3b55rX1dX10IlkMIeo9FomDJlSq64H9ZiiyOZRUZGMnv2bHr06MFbb71FmTJlOHr06BPN0HiYrAcNGkStWrWKPEbxGGbeizWEJOASyt7enrJlyz7RMQEBAdy4cSPP4/z9/VFKcfHiRV1yiYuLQ6vV5nvOxMRErl+//thesI2NTa4eZpUqVVBKkZiYmKts8s9Y/vjjD12yBjh//rxe7zMv586dw9PTM8fA4u3bt3Ptp9VqiYuL0/WCL1y4gFKKChUq4O7ujqenJzExMbLuhrFY8F8WUgMuRV599VUOHDjAunXruHr1Kjdu3ODw4cOsWrUKgPLly9OwYUMWL15MZGQkUVFRzJs3L987/NatW5fq1aszY8YMTp48SWxsLBERERw5cgTILmFkZGQQERFBUlIS9+/fp3z58rRq1Yr58+dz+PBhYmJiuHjxIlu2bOGPP/4AoGPHjty+fZvly5cTHR3N4cOH2blzp17v8+7du0RFReV4aLVaypUrh1arZf/+/cTExLBjx45c9V/I7oXPmzePqKgoIiMjWbJkCU8//TTlypUDsmvrmzdv5pdffiE6OpqrV6+yd+9eNm3a9ETfh9CT1ICFJWjYsCHjxo3jp59+4ueff8ba2ppy5crluHfc0KFDWbRoERMnTsTV1ZUePXqQlJSU5zmtrKz4+OOPWblyJXPnzuXevXu6aWiQfQeHDh06MGfOHO7evaubhjZ06FA2btzIqlWriI+Px9nZmerVq+t6xN7e3owZM4YVK1YQGhpKQEAAr7/+um42RX4OHjzIwYMHc2zr0qUL/fr1o2vXrixfvpz09HQaNGjAa6+9xtKlS3Ps6+vrS8uWLZk2bVqOaWgPBQUFHyuSRAAAALdJREFUYW9vz88//8yaNWuws7PD399fZkAUFwvuAcuC7EIIs+bY4mODjk87OLmIIil60gMWQpg3My8jGEISsBDCvFnwH+mSgIUQ5s2Ce8AyC0IIIUxEesBCCPMmJQghhDARCy5BSAIWQpg36QELIYSJWHAPWAbhhBDCRKQHLIQwb1KCEEIIE7HgEoSsBSGEECYiNWAhhDARScBCCGEikoCFEMJEJAELIYSJSAIWQggTkQQshBAm8n9Ef5Qu7lxNnAAAAABJRU5ErkJggg==",
"text/plain": [
"<Figure size 360x360 with 2 Axes>"
]
},
"metadata": {},
"output_type": "display_data"
}
],
"source": [
"fig, ax = plt.subplots(figsize=(5,5))\n",
"#plt.figure(figsize=(9,9))\n",
"sns.heatmap(vgg_conf_mat_01, annot=True, fmt=\".1f\", linewidths=0.5, square=True, cmap='Blues_r')\n",
"ax.set_ylabel(\"Actual Label\", fontsize=14)\n",
"ax.set_xlabel(\"Predicted Label\", fontsize=14)\n",
"all_sample_title=\"Accuracy Score: {0:.2f}\".format(vgg_test_eval_01[1])\n",
"ax.set_title(all_sample_title, size=15)\n",
"ax.set_ylim(len(vgg_conf_mat_01)-0.05, -0.05)\n",
"plt.tight_layout()"
]
},
{
"cell_type": "code",
"execution_count": 26,
"metadata": {},
"outputs": [
{
"data": {
"text/plain": [
"<matplotlib.legend.Legend at 0x1a3d839790>"
]
},
"execution_count": 26,
"metadata": {},
"output_type": "execute_result"
},
{
"data": {
"image/png": "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",
"text/plain": [
"<Figure size 864x576 with 1 Axes>"
]
},
"metadata": {},
"output_type": "display_data"
}
],
"source": [
"# AUC Curve\n",
"false_positive_rate, true_positive_rate, threshold = roc_curve(test_generator.classes, vgg_pred_labels_01)\n",
"area_under_curve = auc(false_positive_rate, true_positive_rate)\n",
"\n",
"# Plot AUC Curve\n",
"fig, ax = plt.subplots(figsize=(12,8))\n",
"ax.plot([0,1], [0,1], 'k--')\n",
"ax.plot(false_positive_rate, true_positive_rate, label='AUC = {:.3f}'.format(area_under_curve))\n",
"ax.set_xlabel('False Positive Rate', fontsize=16)\n",
"ax.set_ylabel('True Positive Rate', fontsize=16)\n",
"ax.set_title(\"ROC curve\", fontsize=20)\n",
"ax.legend(frameon=False, loc='best', ncol=1, fontsize=16)"
]
},
{
"cell_type": "markdown",
"metadata": {},
"source": [
"#  fine-tuning"
]
},
{
"cell_type": "code",
"execution_count": null,
"metadata": {},
"outputs": [],
"source": []
},
{
"cell_type": "code",
"execution_count": 27,
"metadata": {},
"outputs": [
{
"name": "stdout",
"output_type": "stream",
"text": [
"Model: \"model_1\"\n",
"_________________________________________________________________\n",
"Layer (type)                 Output Shape              Param #   \n",
"=================================================================\n",
"input_2 (InputLayer)         [(None, 128, 128, 3)]     0         \n",
"_________________________________________________________________\n",
"block1_conv1 (Conv2D)        (None, 128, 128, 64)      1792      \n",
"_________________________________________________________________\n",
"block1_conv2 (Conv2D)        (None, 128, 128, 64)      36928     \n",
"_________________________________________________________________\n",
"block1_pool (MaxPooling2D)   (None, 64, 64, 64)        0         \n",
"_________________________________________________________________\n",
"block2_conv1 (Conv2D)        (None, 64, 64, 128)       73856     \n",
"_________________________________________________________________\n",
"block2_conv2 (Conv2D)        (None, 64, 64, 128)       147584    \n",
"_________________________________________________________________\n",
"block2_pool (MaxPooling2D)   (None, 32, 32, 128)       0         \n",
"_________________________________________________________________\n",
"block3_conv1 (Conv2D)        (None, 32, 32, 256)       295168    \n",
"_________________________________________________________________\n",
"block3_conv2 (Conv2D)        (None, 32, 32, 256)       590080    \n",
"_________________________________________________________________\n",
"block3_conv3 (Conv2D)        (None, 32, 32, 256)       590080    \n",
"_________________________________________________________________\n",
"block3_conv4 (Conv2D)        (None, 32, 32, 256)       590080    \n",
"_________________________________________________________________\n",
"block3_pool (MaxPooling2D)   (None, 16, 16, 256)       0         \n",
"_________________________________________________________________\n",
"block4_conv1 (Conv2D)        (None, 16, 16, 512)       1180160   \n",
"_________________________________________________________________\n",
"block4_conv2 (Conv2D)        (None, 16, 16, 512)       2359808   \n",
"_________________________________________________________________\n",
"block4_conv3 (Conv2D)        (None, 16, 16, 512)       2359808   \n",
"_________________________________________________________________\n",
"block4_conv4 (Conv2D)        (None, 16, 16, 512)       2359808   \n",
"_________________________________________________________________\n",
"block4_pool (MaxPooling2D)   (None, 8, 8, 512)         0         \n",
"_________________________________________________________________\n",
"block5_conv1 (Conv2D)        (None, 8, 8, 512)         2359808   \n",
"_________________________________________________________________\n",
"block5_conv2 (Conv2D)        (None, 8, 8, 512)         2359808   \n",
"_________________________________________________________________\n",
"block5_conv3 (Conv2D)        (None, 8, 8, 512)         2359808   \n",
"_________________________________________________________________\n",
"block5_conv4 (Conv2D)        (None, 8, 8, 512)         2359808   \n",
"_________________________________________________________________\n",
"block5_pool (MaxPooling2D)   (None, 4, 4, 512)         0         \n",
"_________________________________________________________________\n",
"flatten_1 (Flatten)          (None, 8192)              0         \n",
"_________________________________________________________________\n",
"dense_3 (Dense)              (None, 4608)              37753344  \n",
"_________________________________________________________________\n",
"dropout_1 (Dropout)          (None, 4608)              0         \n",
"_________________________________________________________________\n",
"dense_4 (Dense)              (None, 1152)              5309568   \n",
"_________________________________________________________________\n",
"dense_5 (Dense)              (None, 2)                 2306      \n",
"=================================================================\n",
"Total params: 63,089,602\n",
"Trainable params: 47,784,834\n",
"Non-trainable params: 15,304,768\n",
"_________________________________________________________________\n",
"None\n"
]
}
],
"source": [
"base_model = VGG19(include_top=False, input_shape=(128,128,3))\n",
"base_model_layer_names = [layer.name for layer in base_model.layers]\n",
"base_model_layer_names\n",
"\n",
"x = base_model.output\n",
"\n",
"flat=Flatten()(x)\n",
"\n",
"class_1 = Dense(4608, activation='relu')(flat)\n",
"drop_out = Dropout(0.2)(class_1)\n",
"class_2 = Dense(1152, activation='relu')(drop_out)\n",
"output = Dense(2, activation='softmax')(class_2)\n",
"\n",
"model_02 = Model(base_model.inputs, output)\n",
"model_02.load_weights('model_weights/vgg19_model_01.h5')\n",
"\n",
"set_trainable = False\n",
"for layer in base_model.layers:\n",
"    if layer.name in ['block5_conv4', 'block5_conv3']:\n",
"        set_trainable=True\n",
"    if set_trainable:\n",
"        layer.trainable=True\n",
"    else:\n",
"        layer.trainable=False\n",
"\n",
"print(model_02.summary())"
]
},
{
"cell_type": "code",
"execution_count": 28,
"metadata": {},
"outputs": [],
"source": [
"sgd = SGD(lr=0.001, decay=1e-6, momentum=0.9, nesterov=True)\n",
"#model_02 = Model(base_model.inputs, output)\n",
"model_02.compile(optimizer=sgd,\n",
"                loss='categorical_crossentropy',\n",
"                metrics=['accuracy'])"
]
},
{
"cell_type": "code",
"execution_count": 55,
"metadata": {},
"outputs": [
{
"name": "stdout",
"output_type": "stream",
"text": [
"Epoch 1/10\n",
" 9/10 [==========================>...] - ETA: 8s - loss: 0.6392 - accuracy: 0.6667 \n",
"Epoch 00001: val_loss did not improve from 0.44221\n",
"10/10 [==============================] - 288s 29s/step - loss: 0.6192 - accuracy: 0.6812 - val_loss: 0.4653 - val_accuracy: 0.7405\n",
"Epoch 2/10\n",
" 9/10 [==========================>...] - ETA: 8s - loss: 0.5483 - accuracy: 0.7222 \n",
"Epoch 00002: val_loss did not improve from 0.44221\n",
"10/10 [==============================] - 323s 32s/step - loss: 0.5421 - accuracy: 0.7344 - val_loss: 0.5323 - val_accuracy: 0.6949\n",
"Epoch 3/10\n",
" 9/10 [==========================>...] - ETA: 4:36 - loss: 0.6017 - accuracy: 0.7083 \n",
"Epoch 00003: val_loss improved from 0.44221 to 0.38923, saving model to best_model.h5\n",
"10/10 [==============================] - 3386s 339s/step - loss: 0.5770 - accuracy: 0.7250 - val_loss: 0.3892 - val_accuracy: 0.8037\n",
"Epoch 4/10\n",
" 9/10 [==========================>...] - ETA: 8s - loss: 0.4586 - accuracy: 0.7812 \n",
"Epoch 00004: val_loss improved from 0.38923 to 0.36414, saving model to best_model.h5\n",
"10/10 [==============================] - 307s 31s/step - loss: 0.4611 - accuracy: 0.7719 - val_loss: 0.3641 - val_accuracy: 0.8201\n",
"Epoch 5/10\n",
" 9/10 [==========================>...] - ETA: 9s - loss: 0.4445 - accuracy: 0.7743 \n",
"Epoch 00005: val_loss did not improve from 0.36414\n",
"10/10 [==============================] - 2319s 232s/step - loss: 0.4398 - accuracy: 0.7750 - val_loss: 0.3723 - val_accuracy: 0.8026\n",
"Epoch 6/10\n",
" 9/10 [==========================>...] - ETA: 23s - loss: 0.4473 - accuracy: 0.8021\n",
"Epoch 00006: val_loss did not improve from 0.36414\n",
"10/10 [==============================] - 421s 42s/step - loss: 0.4398 - accuracy: 0.8125 - val_loss: 0.5900 - val_accuracy: 0.7316\n",
"Epoch 7/10\n",
" 9/10 [==========================>...] - ETA: 9s - loss: 0.4864 - accuracy: 0.7604 \n",
"Epoch 00007: val_loss improved from 0.36414 to 0.31603, saving model to best_model.h5\n",
"10/10 [==============================] - 313s 31s/step - loss: 0.4880 - accuracy: 0.7563 - val_loss: 0.3160 - val_accuracy: 0.8522\n",
"Epoch 8/10\n",
" 9/10 [==========================>...] - ETA: 45s - loss: 0.4056 - accuracy: 0.8056 \n",
"Epoch 00008: val_loss did not improve from 0.31603\n",
"10/10 [==============================] - 1004s 100s/step - loss: 0.4151 - accuracy: 0.8094 - val_loss: 0.4433 - val_accuracy: 0.7666\n",
"Epoch 9/10\n",
" 9/10 [==========================>...] - ETA: 8s - loss: 0.4200 - accuracy: 0.8264 \n",
"Epoch 00009: val_loss improved from 0.31603 to 0.29185, saving model to best_model.h5\n",
"10/10 [==============================] - 297s 30s/step - loss: 0.4164 - accuracy: 0.8313 - val_loss: 0.2919 - val_accuracy: 0.8687\n",
"Epoch 10/10\n",
" 9/10 [==========================>...] - ETA: 8s - loss: 0.3681 - accuracy: 0.8576 \n",
"Epoch 00010: val_loss improved from 0.29185 to 0.22547, saving model to best_model.h5\n",
"10/10 [==============================] - 2622s 262s/step - loss: 0.3687 - accuracy: 0.8500 - val_loss: 0.2255 - val_accuracy: 0.9247\n"
]
}
],
"source": [
"history_02 = model_02.fit_generator(train_generator,\n",
"                                 steps_per_epoch=10,\n",
"                                 epochs=10,\n",
"                                 callbacks = [es, cp, lrr],\n",
"                                 validation_data = valid_generator)"
]
},
{
"cell_type": "code",
"execution_count": 56,
"metadata": {},
"outputs": [],
"source": [
"# save model\n",
"if not os.path.isdir('model_weights/'):\n",
"    os.mkdir('model_weights/')\n",
"model_02.save_weights(filepath='model_weights/vgg19_model_02.h5', overwrite=True)"
]
},
{
"cell_type": "code",
"execution_count": null,
"metadata": {},
"outputs": [],
"source": [
"## Evaluating the model"
]
},
{
"cell_type": "code",
"execution_count": 43,
"metadata": {},
"outputs": [
{
"name": "stdout",
"output_type": "stream",
"text": [
"Validation loss:     0.2250808093866164\n",
"Validation accuracy: 0.9246966242790222\n",
"Test loss:           0.21191025159293844\n",
"Test accuracy:       0.9309728145599365\n",
"2796/2796 [==============================] - 324s 116ms/step\n",
"              precision    recall  f1-score   support\n",
"\n",
"     healthy       0.89      0.98      0.93      1398\n",
"    infected       0.98      0.88      0.93      1398\n",
"\n",
"    accuracy                           0.93      2796\n",
"   macro avg       0.94      0.93      0.93      2796\n",
"weighted avg       0.94      0.93      0.93      2796\n",
"\n"
]
},
{
"data": {
"image/png": "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",
"text/plain": [
"<Figure size 360x360 with 2 Axes>"
]
},
"metadata": {},
"output_type": "display_data"
}
],
"source": [
"# Load the saved model\n",
"model_02.load_weights('model_weights/vgg19_model_02.h5')\n",
"# Evaluate the model on the hold out validation and test datasets\n",
"\n",
"vgg_val_eval_02 = model_02.evaluate_generator(valid_generator)\n",
"vgg_test_eval_02 = model_02.evaluate_generator(test_generator)\n",
"\n",
"print('Validation loss:     {}'.format(vgg_val_eval_02[0]))\n",
"print('Validation accuracy: {}'.format(vgg_val_eval_02[1]))\n",
"print('Test loss:           {}'.format(vgg_test_eval_02[0]))\n",
"print('Test accuracy:       {}'.format(vgg_test_eval_02[1]))\n",
"\n",
"\n",
"filenames = test_generator.filenames\n",
"nb_samples = len(filenames)\n",
"vgg_predictions_02 = model_02.predict_generator(test_generator,\n",
"                                                steps = nb_samples,\n",
"                                                verbose=1)\n",
"vgg_pred_labels_02 = np.argmax(vgg_predictions_02, axis=1)\n",
"\n",
"\n",
"# Classification Report\n",
"print(classification_report(test_generator.classes, vgg_pred_labels_02, \n",
"                            target_names=['healthy', 'infected']))\n",
"vgg_conf_mat_02 = pd.DataFrame(confusion_matrix(test_generator.classes, vgg_pred_labels_02), \n",
"                        index=['healthy', 'infected'], \n",
"                        columns=['healthy', 'infected'])\n",
"\n",
"\n",
"fig, ax = plt.subplots(figsize=(5,5))\n",
"\n",
"sns.heatmap(vgg_conf_mat_02, annot=True, fmt=\".1f\", linewidths=0.5, square=True, cmap='Blues_r')\n",
"ax.set_ylabel(\"Actual Label\", fontsize=14)\n",
"ax.set_xlabel(\"Predicted Label\", fontsize=14)\n",
"all_sample_title=\"Accuracy Score: {0:.2f}\".format(vgg_test_eval_02[1])\n",
"ax.set_title(all_sample_title, size=15)\n",
"ax.set_ylim(len(vgg_conf_mat_02)-0.05, -0.05)\n",
"plt.tight_layout()"
]
},
{
"cell_type": "code",
"execution_count": 40,
"metadata": {},
"outputs": [
{
"data": {
"text/plain": [
"<matplotlib.legend.Legend at 0x1a46575a10>"
]
},
"execution_count": 40,
"metadata": {},
"output_type": "execute_result"
},
{
"data": {
"image/png": "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",
"text/plain": [
"<Figure size 864x576 with 1 Axes>"
]
},
"metadata": {},
"output_type": "display_data"
}
],
"source": [
"# AUC Curve\n",
"false_positive_rate, true_positive_rate, threshold = roc_curve(test_generator.classes, vgg_pred_labels_02)\n",
"area_under_curve = auc(false_positive_rate, true_positive_rate)\n",
"\n",
"# Plot AUC Curve\n",
"fig, ax = plt.subplots(figsize=(12,8))\n",
"ax.plot([0,1], [0,1], 'k--')\n",
"ax.plot(false_positive_rate, true_positive_rate, label='AUC = {:.3f}'.format(area_under_curve))\n",
"ax.set_xlabel('False Positive Rate', fontsize=16)\n",
"ax.set_ylabel('True Positive Rate', fontsize=16)\n",
"ax.set_title(\"ROC curve\", fontsize=20)\n",
"ax.legend(frameon=False, loc='best', ncol=1, fontsize=16)"
]
},
{
"cell_type": "markdown",
"metadata": {},
"source": [
"# Unfreezing and Fine-tuning the entire network"
]
},
{
"cell_type": "code",
"execution_count": 55,
"metadata": {},
"outputs": [],
"source": [
"# Build the network\n",
"base_model = VGG19(include_top=False, input_shape=(128,128,3))\n",
"x = base_model.output\n",
"flat=Flatten()(x)\n",
"class_1 = Dense(4608, activation='relu')(flat)\n",
"drop_out = Dropout(0.2)(class_1)\n",
"class_2 = Dense(1152, activation='relu')(drop_out)\n",
"output = Dense(2, activation='softmax')(class_2)\n",
"model_03 = Model(base_model.inputs, output)\n",
"\n",
"# Load weights\n",
"model_03.load_weights('model_weights/vgg19_model_02.h5')\n",
"\n",
"sgd = SGD(lr=0.0001, decay=1e-6, momentum=0.9, nesterov=True)\n",
"# Compile the model\n",
"model_03.compile(optimizer=sgd, loss='categorical_crossentropy', metrics=['accuracy'])"
]
},
{
"cell_type": "code",
"execution_count": 59,
"metadata": {},
"outputs": [
{
"name": "stdout",
"output_type": "stream",
"text": [
"Epoch 1/35\n",
" 99/100 [============================>.] - ETA: 9s - loss: 0.3329 - accuracy: 0.8674 \n",
"Epoch 00001: val_loss improved from 0.22547 to 0.17075, saving model to best_model.h5\n",
"100/100 [==============================] - 1175s 12s/step - loss: 0.3338 - accuracy: 0.8672 - val_loss: 0.1707 - val_accuracy: 0.9429\n",
"Epoch 2/35\n",
" 99/100 [============================>.] - ETA: 10s - loss: 0.3099 - accuracy: 0.8795\n",
"Epoch 00002: val_loss did not improve from 0.17075\n",
"100/100 [==============================] - 1375s 14s/step - loss: 0.3090 - accuracy: 0.8800 - val_loss: 0.1716 - val_accuracy: 0.9433\n",
"Epoch 3/35\n",
" 99/100 [============================>.] - ETA: 10s - loss: 0.2868 - accuracy: 0.8876\n",
"Epoch 00003: val_loss improved from 0.17075 to 0.16279, saving model to best_model.h5\n",
"100/100 [==============================] - 1309s 13s/step - loss: 0.2881 - accuracy: 0.8872 - val_loss: 0.1628 - val_accuracy: 0.9465\n",
"Epoch 4/35\n",
" 99/100 [============================>.] - ETA: 18s - loss: 0.3118 - accuracy: 0.8734\n",
"Epoch 00004: val_loss improved from 0.16279 to 0.15577, saving model to best_model.h5\n",
"100/100 [==============================] - 2056s 21s/step - loss: 0.3106 - accuracy: 0.8741 - val_loss: 0.1558 - val_accuracy: 0.9497\n",
"Epoch 5/35\n",
" 99/100 [============================>.] - ETA: 9s - loss: 0.2671 - accuracy: 0.8943 \n",
"Epoch 00005: val_loss improved from 0.15577 to 0.15094, saving model to best_model.h5\n",
"100/100 [==============================] - 1197s 12s/step - loss: 0.2676 - accuracy: 0.8941 - val_loss: 0.1509 - val_accuracy: 0.9582\n",
"Epoch 6/35\n",
" 99/100 [============================>.] - ETA: 9s - loss: 0.2650 - accuracy: 0.8968 \n",
"Epoch 00006: val_loss did not improve from 0.15094\n",
"100/100 [==============================] - 1212s 12s/step - loss: 0.2641 - accuracy: 0.8972 - val_loss: 0.1668 - val_accuracy: 0.9461\n",
"Epoch 7/35\n",
" 99/100 [============================>.] - ETA: 10s - loss: 0.2709 - accuracy: 0.8895\n",
"Epoch 00007: val_loss improved from 0.15094 to 0.14916, saving model to best_model.h5\n",
"100/100 [==============================] - 1249s 12s/step - loss: 0.2706 - accuracy: 0.8897 - val_loss: 0.1492 - val_accuracy: 0.9561\n",
"Epoch 8/35\n",
" 99/100 [============================>.] - ETA: 9s - loss: 0.2764 - accuracy: 0.8861 \n",
"Epoch 00008: val_loss did not improve from 0.14916\n",
"100/100 [==============================] - 1236s 12s/step - loss: 0.2759 - accuracy: 0.8860 - val_loss: 0.1550 - val_accuracy: 0.9529\n",
"Epoch 9/35\n",
" 99/100 [============================>.] - ETA: 10s - loss: 0.2549 - accuracy: 0.8974\n",
"Epoch 00009: val_loss did not improve from 0.14916\n",
"100/100 [==============================] - 1232s 12s/step - loss: 0.2540 - accuracy: 0.8981 - val_loss: 0.1747 - val_accuracy: 0.9465\n",
"Epoch 10/35\n",
" 99/100 [============================>.] - ETA: 10s - loss: 0.2306 - accuracy: 0.9145\n",
"Epoch 00010: val_loss improved from 0.14916 to 0.14675, saving model to best_model.h5\n",
"100/100 [==============================] - 1338s 13s/step - loss: 0.2318 - accuracy: 0.9141 - val_loss: 0.1468 - val_accuracy: 0.9568\n",
"Epoch 11/35\n",
" 99/100 [============================>.] - ETA: 9s - loss: 0.2609 - accuracy: 0.8958 \n",
"Epoch 00011: val_loss did not improve from 0.14675\n",
"100/100 [==============================] - 1222s 12s/step - loss: 0.2608 - accuracy: 0.8959 - val_loss: 0.1569 - val_accuracy: 0.9532\n",
"Epoch 12/35\n",
" 99/100 [============================>.] - ETA: 10s - loss: 0.2440 - accuracy: 0.9047\n",
"Epoch 00012: val_loss improved from 0.14675 to 0.14285, saving model to best_model.h5\n",
"100/100 [==============================] - 1302s 13s/step - loss: 0.2461 - accuracy: 0.9044 - val_loss: 0.1429 - val_accuracy: 0.9579\n",
"Epoch 13/35\n",
" 99/100 [============================>.] - ETA: 9s - loss: 0.2461 - accuracy: 0.9066 \n",
"Epoch 00013: val_loss did not improve from 0.14285\n",
"100/100 [==============================] - 1225s 12s/step - loss: 0.2456 - accuracy: 0.9069 - val_loss: 0.1511 - val_accuracy: 0.9540\n",
"Epoch 14/35\n",
" 99/100 [============================>.] - ETA: 10s - loss: 0.2612 - accuracy: 0.8974\n",
"Epoch 00014: val_loss did not improve from 0.14285\n",
"100/100 [==============================] - 1233s 12s/step - loss: 0.2617 - accuracy: 0.8972 - val_loss: 0.1447 - val_accuracy: 0.9575\n",
"Epoch 15/35\n",
" 99/100 [============================>.] - ETA: 9s - loss: 0.2527 - accuracy: 0.9021 \n",
"Epoch 00015: val_loss did not improve from 0.14285\n",
"100/100 [==============================] - 3203s 32s/step - loss: 0.2515 - accuracy: 0.9025 - val_loss: 0.1612 - val_accuracy: 0.9504\n",
"Epoch 16/35\n",
" 99/100 [============================>.] - ETA: 2:42 - loss: 0.2142 - accuracy: 0.9208\n",
"Epoch 00016: val_loss did not improve from 0.14285\n",
"100/100 [==============================] - 16655s 167s/step - loss: 0.2139 - accuracy: 0.9206 - val_loss: 0.1760 - val_accuracy: 0.9504\n",
"Epoch 00016: early stopping\n"
]
}
],
"source": [
"history_03 = model_03.fit_generator(train_generator,\n",
"                                    steps_per_epoch=100,\n",
"                                    epochs=35,\n",
"                                    callbacks = [es, cp, lrr],\n",
"                                    validation_data = valid_generator)"
]
},
{
"cell_type": "code",
"execution_count": 60,
"metadata": {},
"outputs": [],
"source": [
"# save model\n",
"if not os.path.isdir('model_weights/'):\n",
"    os.mkdir('model_weights/')\n",
"model_03.save_weights(filepath='model_weights/vgg_unfrozen.h5', overwrite=True)"
]
},
{
"cell_type": "markdown",
"metadata": {},
"source": [
"## Evaluating the model"
]
},
{
"cell_type": "code",
"execution_count": 60,
"metadata": {},
"outputs": [
{
"name": "stdout",
"output_type": "stream",
"text": [
"Validation loss     :0.18\n",
"Validation accuracy :0.95\n",
"Test loss           :0.16\n",
"Test accuracy       :0.96\n",
"2796/2796 [==============================] - 355s 127ms/step\n",
"              precision    recall  f1-score   support\n",
"\n",
"     healthy       0.93      0.99      0.96      1398\n",
"    infected       0.99      0.93      0.96      1398\n",
"\n",
"    accuracy                           0.96      2796\n",
"   macro avg       0.96      0.96      0.96      2796\n",
"weighted avg       0.96      0.96      0.96      2796\n",
"\n"
]
},
{
"data": {
"image/png": "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",
"text/plain": [
"<Figure size 360x360 with 2 Axes>"
]
},
"metadata": {
"needs_background": "light"
},
"output_type": "display_data"
}
],
"source": [
"# Load the saved model\n",
"model_03.load_weights('model_weights/vgg_unfrozen.h5')\n",
"# Evaluate the model on the hold out validation and test datasets\n",
"\n",
"vgg_val_eval_03 = model_03.evaluate_generator(valid_generator)\n",
"vgg_test_eval_03 = model_03.evaluate_generator(test_generator)\n",
"\n",
"print('Validation loss     :{0:.2f}'.format(vgg_val_eval_03[0]))\n",
"print('Validation accuracy :{0:.2f}'.format(vgg_val_eval_03[1]))\n",
"print('Test loss           :{0:.2f}'.format(vgg_test_eval_03[0]))\n",
"print('Test accuracy       :{0:.2f}'.format(vgg_test_eval_03[1]))\n",
"\n",
"\n",
"filenames = test_generator.filenames\n",
"nb_samples = len(filenames)\n",
"vgg_predictions_03 = model_03.predict_generator(test_generator,\n",
"                                                steps = nb_samples,\n",
"                                                verbose=1)\n",
"vgg_pred_labels_03 = np.argmax(vgg_predictions_03, axis=1)\n",
"\n",
"\n",
"# Classification Report\n",
"print(classification_report(test_generator.classes, vgg_pred_labels_03, \n",
"                            target_names=['healthy', 'infected']))\n",
"vgg_conf_mat_03 = pd.DataFrame(confusion_matrix(test_generator.classes, vgg_pred_labels_03), \n",
"                        index=['healthy', 'infected'], \n",
"                        columns=['healthy', 'infected'])\n",
"\n",
"\n",
"fig, ax = plt.subplots(figsize=(5,5))\n",
"\n",
"sns.heatmap(vgg_conf_mat_03, annot=True, fmt=\".1f\", linewidths=0.5, square=True, cmap='Blues_r')\n",
"ax.set_ylabel(\"Actual Label\", fontsize=14)\n",
"ax.set_xlabel(\"Predicted Label\", fontsize=14)\n",
"all_sample_title=\"Accuracy Score: {0:.2f}\".format(vgg_test_eval_03[1])\n",
"ax.set_title(all_sample_title, size=15)\n",
"ax.set_ylim(len(vgg_conf_mat_03)-0.05, -0.05)\n",
"plt.tight_layout()"
]
},
{
"cell_type": "code",
"execution_count": 41,
"metadata": {
"scrolled": true
},
"outputs": [
{
"data": {
"text/plain": [
"<matplotlib.legend.Legend at 0x1a46593690>"
]
},
"execution_count": 41,
"metadata": {},
"output_type": "execute_result"
},
{
"data": {
"image/png": "iVBORw0KGgoAAAANSUhEUgAAAtUAAAH6CAYAAADIobAVAAAABHNCSVQICAgIfAhkiAAAAAlwSFlzAAALEgAACxIB0t1+/AAAADh0RVh0U29mdHdhcmUAbWF0cGxvdGxpYiB2ZXJzaW9uMy4xLjEsIGh0dHA6Ly9tYXRwbG90bGliLm9yZy8QZhcZAAAgAElEQVR4nOzdd1hTZxsG8Dvsvd17D6gD0U9FBRRw1Ko4K9Zq62qrtWpx7xarKO7RWhe2bqFqbdUqjjrQgtZR7VCsFgdKAZU9kpzvD0xKSNAACYfA/bsur5hzTpInpNKbh+e8RyIIggAiIiIiIio2I7ELICIiIiIydAzVREREREQlxFBNRERERFRCDNVERERERCXEUE1EREREVEIM1UREREREJcRQTURERERUQgzVRERFIJFIVP4YGxvDyckJ3t7eCAsLw+uW/o+MjMSQIUNQu3ZtWFhYwNHREW3btsXChQvx7NmzVz5WLpcjPDwcAwYMQK1atWBhYQFra2s0a9YMY8eOxYULF3T5VomIqAgkvPgLEZH2JBIJAGD+/PkAgNzcXMTGxuLAgQPIzc3F+PHjsW7dOrXHZWdnY/To0dixYwcsLS3Rs2dPNG7cGGlpaTh16hR+//13uLi4ICIiAl26dFF7/JMnTzBw4EBcuHABtra28PPzQ4MGDSAIAu7cuYOTJ08iLS0Na9aswccff6zfLwIREalhqCYiKgJFqC74rfPChQvo0qULBEHA3bt3Ua9ePZX977//PrZt2wZ3d3ccPHgQtWrVUu4TBAHr16/HJ598AisrK0RHR6NZs2bK/RkZGejYsSOuX7+Ot99+Gxs2bICjo6PK86ekpCA0NBTm5uaYPXu2rt82ERG9Bsc/iIh0wNPTE02bNoUgCLhy5YrKvvPnz2Pbtm1wdHTEDz/8oBKogbygPmHCBEydOhVpaWmYOHGiyv6VK1fi+vXr8PT0xM6dO9UCNQDY2dnhs88+Q1BQkNY1R0dHY8iQIahRowbMzc1RrVo1+Pv7Y9++fcpjzpw5A4lEggULFmh8jrp166Ju3boq28LCwiCRSBAWFoZjx47B29sb9vb2kEgkePToEYyNjeHu7l5oXT169IBEIsHNmzdVtv/yyy8YOHAgqlatCjMzM9SqVQvjxo3D48ePtX7PRET6wlBNRKQjiu61qampyvZNmzYBAMaMGYNq1aoV+vjp06fD3NwckZGRuHfvnnL7119/DQCYO3cujIxe/W3b3Nxcq1o3bdqEjh074uDBg+jYsSM+/fRTvPnmm0hISMCGDRu0eo7XCQ8PR+/evWFra4sPPvgAgwcPRo0aNeDr64urV6/it99+U3tMfHw8IiMj0aZNG7i5uSm3b9u2DZ6enjh69Ch8fHwwadIkeHh4YPPmzfDw8EBcXJxOaiYiKi4TsQsgIioPzp49i7/++gtmZmZo166dyr7z588DAHx9fV/5HI6OjmjTpg2ioqJw4cIF1KtXDw8ePEBcXBxMTEzg5eWlk1p///13fPTRR7Czs8O5c+fg6uqqsv/hw4c6eZ0jR47gyJEj6NGjh8r2kSNH4vjx49i+fTtCQ0NV9u3YsQMymQwjRoxQbrt9+zbGjRuHunXr4ueff0aNGjWU+06dOgU/Pz988sknOHDggE7qJiIqDoZqIqJiUIxD5D9RURAEhIaGqnWj4+PjAUBt7EMTxTGKkQbFY52dnWFhYaGT2r/88ktIpVLMnTtXLVADQM2aNXXyOn379lUL1ADQr18/2NvbY+fOnQgJCYGxsbFy3/bt22FqaoqhQ4eq1Jubm4vVq1erBGoA6Nq1K/r06YPDhw8jNTUVtra2OqmdiKioGKqJiIph4cKFKvclEgm2bNmC9957r9DHKE5yfBXFCEnBEyK1eay2Ll26BADo2bOnzp5Tk4IdewVLS0sMHjwYmzZtwk8//YRevXoBAK5cuYJbt24hICAALi4uyuMvXrwIAPj5558RExOj9nwJCQmQyWS4ffs22rRpo4d3QkT0egzVRETFoAi76enpuHjxIkaNGoUPPvgAderUQdeuXVWOrVq1Ku7du4e4uDg0adLklc+rGL1QdLurV68OAEhMTERWVpZOutXPnz8HALWur65VrVq10H0jR47Epk2bsH37dmWo3r59OwCojH4AQFJSEgBg2bJlr3y9tLS0kpRLRFQiPFGRiKgErK2t4evri8OHDytngTMyMlSO6dSpE4C8C7+8yrNnz5Qrh3h6egLIGwepXbs2pFIpzp49q5OaHRwcAACPHj167bGKEyOlUqnG/S9evCj0sa/qrnfs2BGNGjXCoUOH8Pz5c+Tm5mL37t1wcXFRhmwFe3t75WsJglDoH13NnBMRFQdDNRGRDrRo0QJjxozBw4cPsXLlSpV9o0ePBgBs3rwZT58+LfQ5QkNDkZ2dDV9fX5V1rseOHQsACA4Ohlwuf2Ud2dnZr621ffv2AICjR4++9ljF8n0PHjxQ2xcbG6vsehfHiBEjkJ2djb179+LHH39EYmIiAgMD1VZPUdR77ty5Yr8WEZHeCUREpDUAQmHfOh8+fChYWFgIDg4OQnJyssq+4cOHCwAEDw8P4cGDB2qP/fLLLwVjY2PBxsZGuHXrlsq+9PR0oWXLlgIAYdiwYcKzZ8/UHp+amiosXLhQCA4Ofu17uHXrlmBiYiI4OjqqvZYgCCr15eTkCHZ2doK9vb3w9OlT5faMjAyhZ8+eAgChTp06Ko/ftm2bAEDYtm3bK+uIi4sTjIyMhI4dOwoBAQECAOHXX39VO+6PP/4QTE1NhUaNGgl//fWX2v7s7Gzh7Nmzr3nXRET6xZlqIiIdqVGjBsaNG4fVq1dj6dKlWLx4sXLf119/DalUit27d6NJkybo2bMnGjVqhPT0dJw+fRo3b96Es7MzIiIi0Lx5c5XntbKywrFjxzBw4EDs3LkThw8fhp+fHxo2bAi5XI7Y2FicPHkSKSkpGi+RXlDz5s2xYcMGfPDBB2jdujX69u2LRo0aISkpCZcvX4atrS1Onz4NIG/N7U8++QSff/45WrdujYCAAEilUpw4cQLVq1dXznwXR61ateDj44OTJ0/CxMQEb7zxBlq3bq12XNOmTbF161a8//77cHV1RY8ePdC4cWPk5uYiLi4O586dQ6VKlfDnn38WuxYiohITO9UTERkSvKJTLQiC8OTJE8HKykqwsrISnjx5orb/p59+EgYOHCjUqFFDMDMzE+zs7AR3d3dh/vz5QlJS0itfWyaTCfv27RMCAgKEGjVqCObm5oKlpaXQpEkTYdSoUcKFCxeK9F6ioqKE/v37C5UqVRJMTU2FatWqCd27dxf279+vcpxcLhcWL14s1K9fXzA1NRVq1aolTJ06VUhPTxfq1KlT7E61IAjCt99+q/yahoaGvvLYGzduCCNGjBBq164tmJmZCY6OjoKrq6swduxY4eTJk0V670REuiYRhJensBMRERERUbHwREUiIiIiohJiqCYiIiIiKiGGaiIiIiKiEmKoJiIiIiIqIYZqIiIiIqISYqgmIiIiIiqhcnPxl8ePH4vyui4uLkhMTBTltal08DOuGPg5Vwz8nMs/fsYVg5ifc2EXvWKnmoiIiIiohBiqiYiIiIhKiKGaiIiIiKiEGKqJiIiIiEqIoZqIiIiIqIQYqomIiIiISoihmoiIiIiohBiqiYiIiIhKiKGaiIiIiKiEGKqJiIiIiEqIoZqIiIiIqIQYqomIiIiISoihmoiIiIiohBiqDVxQUBBq1KiBBQsWaNw/adIktGnTRuO+qKgo1KhRA2fPnlXZnpubi7CwMPTt2xfNmjVDvXr10L59e0yZMgW//fabrt/CK+3cuRNdunRBvXr10LlzZ3zzzTdaP3b79u3Kx7Zt2xZLly5Fbm6uyjF79+5FjRo11P74+fmpHDdw4ECNx9WoUQPDhg3TyXslIiIiw2VSmi+2YcMG/Prrr7C3t8fy5cvV9guCgG3btuHq1aswNzfHRx99hPr165dmiQYlMzMTP/zwAwDgwIEDmDNnDkxMSvaRZmRk4J133sH169fxzjvv4OOPP4a1tTXu37+PiIgIDBkyBL///rsuyn+tnTt3Yvr06ZgwYQI6d+6M8+fPY9asWRAEASNGjHjlY9euXYuQkBCMGTMGPj4+uHXrFkJDQ5GQkIDQ0FC14zdu3Ihq1aop71tZWans/+KLL5Camqqy7cqVK1i4cKFaACciIqKKp1RDtbe3N3r06IH169dr3H/16lU8efIEa9aswZ07d7B582Z88cUXpVmiQTl27BhSU1PRtWtXnDp1CqdPny5xwJs3bx6uXr2K/fv3w8PDQ7m9Q4cOGDp0KI4ePVrSsrUilUoREhKCAQMGYMaMGQAAT09PPH36FMuWLUNgYCBMTU01PjYrKwtr167FwIEDMX/+fABAly5dIJFIEBwcjDFjxqBJkyYqj3F1dUW9evUKradx48Zq23bt2gUzMzP07du3uG+TiIiIyolSHf9o3rw5bGxsCt1/+fJlZfhp3Lgx0tPT8ezZs1Ks0LDs378fDg4OWLVqFSwsLBAeHl6i53v69Cn27duHwMBAlUCdX8+ePUv0Gtq6cuUKkpKSMGDAAJXtAwYMwLNnzxAdHV3oY//66y+kp6fDx8dHZbu3tzcEQcCxY8dKXJ/itwS+vr5wdHQs8fMRERHR6wmCACE3B/KUF2KXoqZUO9Wvk5ycDBcXF+V9Z2dnJCcnM7Ro8OTJE5w7dw7Dhg2Ds7MzevTogaNHj+L58+dwcHAo1nNGRUVBJpPB39+/2HUJggCZTPba44yMjGBkVPjPdH/99RcAqHWUFffv3LkDT09PjY81NjYGAJiZmalsV9xXPHd+AQEBSEpKgouLC/z9/TFjxoxX/nd39OhRpKWlYdCgQYUeQ0REVJEJggBIc4GszLw/2Vkv/2QCWVkQlNte3mYp9mVCUByb/3FZmRCyMiER5EgwMobxV99BIpGI/TaVylSoFgRBbVthX6zIyEhERkYCAJYsWaISxrWRumUVcu/dKXqRBTyTSGCkoW5tmNZrBNtRk4r12LCwMMjlcowePRouLi4YNWoUDh48iFOnTmHs2LHK4ywsLGBsbKzx62Nvb6+8dXFxwYsXeT/1ubm5FfnrqfDNN99gzJgxrz1u+PDh2Lx5c6H7FScUNmjQABYWFsrtih8YcnJyCq3Rw8MDRkZG+OOPPzB8+HDldkWHOj09XfnYRo0aYfbs2Wjbti0sLS1x8eJFhIaG4urVq4iKioKFhQVMTEzUXuvQoUOoXLkyBg8eXOI5diobNH3OVP7wcy7/+BkXjyAIQE4OhKwMCFmZkGdlQsjMyLufmRdmFfvytufdyrMU+/Idn5WpfAzkr2+0KUgsrCCxtMx3awmJc6W8WwtLyE3N8FXYdrzIysaAwGHwcHaG5BUNutJWptKAs7MzEhMTlfeTkpIK7Rb6+vrC19dXeT//47Qhz8yEUGAliOIwNTVVW1FCW9LMTGQXsW6F7du3o169emjYsCESExPRsmVLVK1aFWFhYejfv7/yuKysLMhkMo1fH0WIfvHiBRITE5Geng4AePbsWZG/ngrt27fHkSNHXnuck5PTK18jLS0NQN5/A+bm5srtUqkUQF4wftXj3377bWzYsAENGjSAt7c3bt68idmzZ8PY2Fjl6+Hu7g53d3fl49zc3FC7dm28//77+PrrrxEYGAgXFxeV13ry5AlOnTqFUaNG4fnz5699r2QYCn7OVD7xcy7/KsJnLAgCkJuTr5Ob+bLLm9fpVXaAs/J1gfN1egt2jJW3gly7AiQSwNwCMLfMu7WwyLu1soHE0eXlNktIzC2Uf4e5JSSK45SPs3z5WEvA1EwlIAsv/wDAw4cPUaNGDUgkEtS2rQ43Nze0bNlStM+5evXqGreXqVDt4eGBY8eOwdPTE3fu3IGVlZXeRj+M3n59N1UbTiL847127Rpu376N8ePHK4MxkDfvvG3bNty9excNGjQAkPcTu1yu+R+JYkxD0WlV/Efy6NEjNGzYsFi1OTo6ws7O7rXHvWr0A/ivI/38+XNUqVJFuV0RYl/338W8efPw7NkzjB8/HoIgwMLCAkFBQdiwYQMqV678ysf6+/vDysoK165dQ2BgoNr+7777DnK5nKMfRET0WooO8H/h9mWAfRluBQ2jD4rQKxQYfVAZkyhOALbIF4LtHCAxr6oSepEv9EoUYdeiYHi2BMzMS2XsIjc3F+vXr8fq1auxcuVK9OvXD927d9f76xZXqYbqVatW4ffff0dqaio++OADDB48WNl59Pf3R+vWrfHrr79i4sSJMDMzw0cffVSa5RmM/fv3AwDWr1+vcSWV8PBwTJ8+HcB/c+k5OTlqM8ZPnz4FAFSqVAlA3gofxsbGOHHiBLy8vIpV2759+zBlypTXHjdo0CCsWrWq0P2K2em//vpLJVTfvn0bQN7YxqvY2tpi8+bNSEpKQkJCAmrVqoXMzEwEBwejXbt22ryVQr9hhIeHo3nz5nB1ddXqeYiIyDCoBOCsAiFYEYAL6QILGjrGRQ/ARirBViUAV672cnu+sPsyJEsKhl5FeDa3BMzMytTcsbZu3LiBKVOm4I8//kCfPn3QqVMnsUt6rVIN1ZMmvXp+WCKRYPTo0aVUjWHKycnBoUOH0Lp1a8yaNUtt/4IFCxAREYFp06ZBIpHA09MT69atw/Hjx9G7d2+VY48cOYIqVaoou9pVq1bF4MGDsXPnTvTr10/jCiDHjh1Djx49Cq3Pz89P6/GPV2nTpg2cnJxw4MABdOnSRbn9u+++g4ODA9q2bfva1wDyfqhwdnYGAKxZswZOTk5qX4eCjh07hoyMDJWxEIXr16/jr7/+Ui7VR0RE4sgLwNlqQTY7zgzCv08hZBUItvkCsaChY6w8VtvzpAoGYEWQtXeERBlq1bvAkoIdY3PDD8C6tn79eixZsgSVKlXC1q1by3R3Or8yNf5BrxcZGYlnz55h3rx56Nixo9r+d955BzNnzkRUVBQ8PT3RuXNndOnSBZMnT0ZsbCzc3d2RlpaGQ4cO4aeffsKKFStURjEWLlyIv//+G0OGDMHw4cPRuXNnWFtb459//sGBAwdw48aNV4ZqJyen1wZmbZiammLq1KmYNWsWqlatis6dO+PChQvYs2cPgoODVbrun376Kfbv34+4uDjltkOHDuH58+do0KABXrx4gWPHjuH777/Hpk2bVJZ1fPvtt9GxY0c0bdoUFhYWiImJwVdffYXmzZujX79+anWFh4fDxMQEAQEBJX6PREQVhWoAVu/mClkFxhvyrfogFBx7eE0A1nimi8RIc5C1d4SkSvV8nV3VkQeJptEHxbGmDMD6Uq9ePbz99tuYM2eOclEFQ8BQbWD2798PGxsbvPXWWxr39+vXDwsXLsT+/fvh6ekJiUSCbdu2YfXq1QgPD8fq1athamoKV1dXjT/9WVtbY+/evdi5cye+++477N69G9nZ2ahatSo6deqEefPmlcbbBAC8++67kEgk2LhxI7766itUr14dwcHBGDlypMpxMplMbRk/iUSCb775Bvfv34eJiQnc3d0RHh6u1uFu3LgxIiIiEB8fj5ycHFSvXh3Dhw/HpEmTVE6QBPJmuw4ePAhvb2/lyAwRUXkjyOUvA3CW+jiDYqkzlS7wf2MPQnbB7S+PzSlqB1hDkHVwzjvxTbkvX4fX3EIZgO2rVMWLrGzVYxiAy7TU1FR88cUXqFmzJsaPH49evXqhV69eYpdVZBJB0zp2Bujx48eivG5FOMu4ouNnXDHwc64YytvnrB6AC6wCoQi1WRnqawQXPPmtOAHYyOi/8QaVcQeLfCMQlmpjEhK10QcLwMIqb5uJaYkCcHn7jMu7kydPYsaMGYiPj8f48eMxc+ZMrR4n5udsEKt/EBERlVd5AbjACIPiBDiVEYcCS6AVnAsueIy2CgZgReh1qvTf0meKrnD+VSAKOwFOBwGYKq7k5GTMnz8f3333HRo3boxDhw6hTZs2YpdVIgzVREREBagF4HyhVyhk9EF1ebRMqK0RXJQAbGysvpyZMgAX7Pz+1yGWaOgYK4O0iQkDMJUZ9+/fx48//ojJkyfj448/Vhu5NEQM1UREZNAEuVzz/K+iA5yvq5tqJIH8WXK+yyAXskZwTrb2BRQMwIow62yrGoBVusT5l0FTXyOYAZjKoydPnuDkyZMYNmwY3N3d8csvv5Src5QYqomIqNQIchmQXWAZtJfdXkHD6MOrT4AregDOMDHROP8LZ9uXM8AFwq2iA1xw6bP8awSbmOrxK0Zk+ARBwO7du/H5558jNzcXfn5+qFy5crkK1ABDNRERFUIZgNWWNMtUPcmtwIywkK1h9EFxbE6O9gVoCsAWloCN3csZ4PzdYfVVINTmf80tUKlqNZ7ERlSK7t+/j6lTpyIqKgodOnTAsmXLXntlY0PFUE1EVA4IMpnq6g755nqVc74aLnYhaBp9UBxbnABc8KIXtvb5lkFTXydYoml5NMVFMtgBJjJomZmZ6NOnD7KzsxESEoLAwECVa2OUNwzVRESlTBmAC17JLavAZZALdIEFtdGIfH/PLUoANtWwnJklYOvwssurOvqgvBBGwY6x8jhzBmAiUoqLi0OtWrVgaWmJ0NBQuLm5FboMXXnCUE1E9Ap5AVj9BDhkFQi5+UceVLrDio5xvvvFDcD5u8CKAFzgAhj/XQmukDWCzS0gMeG3fiLSvZycHKxfvx6rV6/GqlWr0K9fP/j7+4tdVqnhd1YiKjdUA7DqXK9Q8OS2At3hZ3IZZKkp6l3gogRgUzPNy5nZOWhYBu2/gKwagPOFYzMGYCIyDNeuXUNQUBD++OMPBAQEoHPnzmKXVOr43ZqIRCFIpWrhVuUyyBouj6y2RnDBk+WkudoXoAjAL0OsYGOb93d7x5cBWH3+Ny8AW2lYHeJld9jYWH9fMCKiMmrdunUICQlB5cqVsW3btgrVnc6PoZqIXkslABfo+Ar5t6utEVzICXBFDcBmZhpWgbACHJz+WwVCEW7znRBX6BrB5hZqAdiJlzYmIioSQRAgkUjQoEEDDB06FHPmzIGdnZ3YZYmGoZqonMkLwAWWNFOsA6zh8sgqawRrWgM4OxOQSrUvQBGA88//WloDjs5arAKhaY1gC0iM2AEmIiorUlJSEBwcjNq1a2PChAno2bMnevbsKXZZomOoJhKRIM3VfDU3tQCsYY1gTSfAFTkAmxdYzswCsLIGHF1eBuACq0AoL4Vc2BrB5gzARETl2PHjxzFz5kwkJCRgwoQJYpdTpjBUE2lJkOaqhVuVpc7UVod4uUKE2vxvvltZcQPwyyCrEoAt1eZ/864Ep3l1CAZgIiLSVlJSEubNm4eDBw+iWbNm2LJlC1q1aiV2WWUKQzWVO4Ig5HVrVcJthjLYChpGH1TWCC4w+pCQkw0hM7NoAVgRavN3dK2sASeXvDlfjV1gy8LXCDZjACYiIvHExcXh2LFjCAoKwvjx42FmZiZ2SWUOQzWJShmAVcLtf51dQcPlkZVrBBdc+iz/mIRMpn0R+QOwogtsYws4V4LE3BIWDo7IEqB21TeJ2uiDBQMwERGVG48fP8bJkycxfPhwtG7dGtHR0XB2dha7rDKLoZq0lheAczWeAJfX5VUffVCuAlHYCXBFDsD5T2SzUAZgiXNlzVeIyz//m787rAjHZuaQvOaSqXYuLsjhqhBERFRByOVy7Nq1C8HBwZDJZOjevTsqV67MQP0aDNXllEoAzjf6oBKAC+kCq18kI18XWC7Xvgi15cwsABs71QBc4Kpv/50Ap2FEQosATERERMV37949TJ06FRcvXoSnpyeWLVuGypUri12WQWCoLgMEQci7alvBIKtpGbQCHV+hwLEqJ8tpG4AlEg0nslkAtvaQVKqqvjrEy9CrPv+bb3zC1IwBmIiIyIBkZmaib9++yMnJwbJlyzB06FBIJBKxyzIYDNV6IqSmQDhzBMhI+y8Aa7oARokD8MtusJ0DJOb5A7Dqer8STRfAUHSBGYCJiIgqrPv376NOnTqwtLTEihUr4OrqimrVqoldlsFhqNYT4WoUhO935YVWywJB1s4BEotq6qtDKNcALnx1CJiZ8adGIiIiKrHs7GysXbsWa9euxapVqxAQEABfX1+xyzJYDNX6kpMDADAK2QyJta3IxRARERH958qVKwgKCsLt27cxYMAAeHl5iV2SwWOo1hfFihbG/BITERFR2bF69WosW7YM1apVw7fffouuXbuKXVK5wEFafZHm5t0yVBMREVEZIAgCAKBJkyZ49913cerUKQZqHWLi0xdlp5oXASEiIiLxvHjxAsHBwahVqxYmTpyIHj16oEePHmKXVe6wU60vMilgZMRVNYiIiEg0P/30E3x8fLB3715kZ2eLXU65xk61vsikgAm/vERERFT6/v33X8ydOxeHDx9Gs2bNEBYWhhYtWohdVrnG1KcvUinnqYmIiEgUjx49wokTJzB16lSMHz8epqamYpdU7jH16YtMxnlqIiIiKjWPHj1CZGQkRowYgVatWiEmJgZOTk5il1VhcOBXX2RSwJg/FRIREZF+yeVyhIWFwcfHB4sWLUJCQgIAMFCXMoZqfZFK2akmIiIivbp79y4GDhyI2bNno02bNjh58iQqV64sdlkVEsc/9EUm44mKREREpDeZmZno168fZDIZVqxYgcGDB0MikYhdVoXF1KcngiyXJyoSERGRzt27dw9169aFpaUlVq9eDVdXV1SpUkXssio8jn/oi0zGUE1EREQ6k5WVhZCQEHh7e+PgwYMAgK5duzJQlxFMffrCmWoiIiLSkZiYGAQFBSE2NhaDBg2Ct7e32CVRAQzV+sKLvxAREZEOrFq1CqGhoahevTp27tzJQF1GcfxDX2S8+AsREREVnyAIAIBmzZph5MiROHXqFAN1GcbUpy8yGWBuIXYVREREZGCePXuGzz77DHXr1sUnn3yC7t27o3v37mKXRa/BTrW+8DLlREREVEQ//vgjfHx8EBERAalUKnY5VARMffrC8Q8iIiLSUkJCAmbPno0jR47Azc0NO3bsgJubm9hlUREw9emLVAoJV/8gIiIiLcTHx+PMmTOYOXMmxo0bB1NTU7FLoiJiqAM06Z4AACAASURBVNYXrv5BREREr/Dw4UNERkZi5MiRaNmyJaKjo+Ho6Ch2WVRMnKnWF45/EBERkQZyuRzbtm2Dj48PFi9ejISEBABgoDZwDNX6IpPx4i9ERESkIjY2Fv3798ecOXPQrl07nDx5EpUrVxa7LNIBtlL1heMfRERElE9mZib69esHQRCwatUqDBw4EBKJROyySEeY+vSFS+oRERER8rrTDRo0gKWlJdauXQs3NzdUqlRJ7LJIxzj+oS8yGUM1ERFRBZaZmYnFixeja9euOHDgAADAx8eHgbqcYurTF3aqiYiIKqzo6Gh8+umn+Pvvv/H222+ja9euYpdEesbUpweCXAYIcs5UExERVUArVqzA8uXLUatWLezevRtdunQRuyQqBRz/0AeZLO+Wq38QERFVGIIgAADc3NwwatQonDp1ioG6AmErVR9k0rxbdqqJiIjKveTkZCxcuBD16tXDpEmT4O/vD39/f7HLolLGTrU+SF+Gas5UExERlVuCIOCHH36Aj48PDh48qOxUU8XE1KcPyvEPfnmJiIjKo6dPn2L27Nk4evQoWrRogV27dsHV1VXsskhETH36oOxUc6aaiIioPHry5Al+/vlnzJ49G2PHjoUJRz4rPP4XoA/KmWpTcesgIiIinfnnn38QGRmJUaNGoWXLloiJiYGDg4PYZVEZwZlqfZCxU01ERFReyGQybNq0Cd26dcOyZcvw77//AgADNalgqNaHl6Fawl8FERERGbTbt28jICAACxYsQIcOHXDy5EleEZE0YurTB67+QUREZPAyMzPRv39/AMDatWsREBAAiUQiclVUVjH16QMv/kJERGSwYmNj0aBBA1haWmL9+vVwdXWFi4uL2GVRGcfxD31gp5qIiMjgZGZmIjg4GD4+Pvjuu+8AAF5eXgzUpBWmPn2QMVQTEREZkosXLyIoKAj3799HYGAgfH19xS6JDAxTnz4oxj94oiIREVGZt3z5cqxYsQJ16tTBnj170LlzZ7FLIgPE8Q99kOXm3bJTTUREVGYpLiveokULjBkzBpGRkQzUVGxMffrATjUREVGZlZycjPnz56N+/fqYPHky/Pz84OfnJ3ZZZODYqdYDgZcpJyIiKnMEQcChQ4fg5eWFw4cPw8iIMYh0h61UfeCJikRERGVKfHw8Zs2ahePHj6NVq1YIDQ1Fs2bNxC6LyhGmPn3gknpERERlSmJiIqKiojBv3jyMHj0axvxtMulYqae+a9euYdu2bZDL5ejWrRv69eunsj8xMRHr169Heno65HI5AgMD4e7uXtpllgxnqomIiER3//59REZGYvTo0XjjjTcQExMDOzs7scuicqpUU59cLseWLVswZ84cODs7Y+bMmfDw8EDNmjWVx0RERKBDhw7w9/fHw4cPsXjxYgMM1Vz9g4iISCwymQybN2/G0qVLYWpqir59+6JSpUoM1KRXpTqhHxsbi6pVq6JKlSowMTFBx44dERMTo3KMRCJBRkYGACAjIwOOjo6lWaJusFNNREQkilu3bqFv37747LPP0KlTJ5w6dQqVKlUSuyyqAEo19SUnJ8PZ2Vl539nZGXfu3FE5ZtCgQQgODsaxY8eQnZ2NuXPnlmaJusHVP4iIiEpdZmYm/Pz8IAgCNmzYgD59+kAikYhdFlUQpRqqFYus51fwP/YLFy7A29sbb731Fm7fvo21a9di+fLlasveREZGIjIyEgCwZMkSuLi46K/wVzAxMVF77TRzM6QDcKlSlf+YywFNnzGVP/ycKwZ+zuXT77//jmbNmkEikWDnzp1wc3Njd7qcK4v/lks1VDs7OyMpKUl5PykpSW2849SpU5g1axYAoHHjxsjNzUVqairs7e1VjvP19YWvr6/yfmJioh4rL5yLi4vaa8tTUgBjY5X3SoZL02dM5Q8/54qBn3P5kpmZiaVLl2Lz5s1YtWoVBgwYAB8fHyQmJvJzLufE/LdcvXp1jdtLdaa6QYMGiI+PR0JCAqRSKaKiouDh4aFyjIuLC27evAkAePjwIXJzcw3vxAKZjCcpEhER6dGFCxfQrVs3fP311xg2bBj8/f3FLokquFJNfsbGxnj//fexaNEiyOVy+Pj4oFatWti7dy8aNGgADw8PvPvuu9i4cSN+/PFHAMBHH31keCMUMilDNRERkZ4sXboUq1evRt26dREeHo4OHTqIXRJR6a9T7e7urrZE3pAhQ5R/r1mzJj7//PPSLku3ZFKepEhERKRjgiBAIpHA3d0dH374IT799FNYWlqKXRYRAF5RUT9kMi6nR0REpCNJSUmYO3cuGjVqhMmTJ6udV0VUFpTqTHWFIc3l+AcREVEJCYKAAwcOwMvLC0eOHIGpqanYJREVislPH3iiIhERUYk8fvwYM2fORGRkJFq3bo3ly5ejSZMmYpdFVCgmPz0QpJypJiIiKonk5GT88ssvWLBgAd5//30Y8/+rVMYxVOuDTMqZaiIioiL6+++/ceLECYwbNw5ubm6IiYmBra2t2GURaYUz1frAJfWIiIi0JpVK8eWXX8LPzw+rV6/Gv//+CwAM1GRQGKr1gat/EBERaeX3339Hnz59EBwcDG9vb5w6dYqXGCeDxOSnD1z9g4iI6LUyMzMxePBgGBsb46uvvkLv3r0N74JvRC8x+emDTAaYmotdBRERUZn0559/okmTJrC0tMRXX32F5s2bw8nJSeyyiEqE4x/6wNU/iIiI1GRkZGD+/Pnw9fVFREQEAKBTp04M1FQusFOtD1z9g4iISMW5c+cwbdo0xMXFYcSIEejevbvYJRHpFJOfPsikkHCmmoiICAAQEhKCNWvWoF69eoiIiED79u3FLolI55j89IGrfxAREUEul8PIyAgeHh4YP348Jk+eDEtLS7HLItILJj994Ew1ERFVYP/++y/mzJmDxo0b49NPP0W3bt3QrVs3scsi0iueqKgPvPgLERFVQIIgIDw8HN7e3jh+/Di70lShMPnpg5ShmoiIKpZHjx5h+vTpOH36NNq0aYPly5ejUaNGYpdFVGqY/PRBJmOoJiKiCuXZs2e4cuUKPv/8c4wYMQLGHIOkCobJTx+4pB4REVUAd+/exYkTJ/DBBx/Azc0NMTExsLGxEbssIlFwplofZDxRkYiIyi+pVIp169bBz88Pa9euxb///gsADNRUoTFU65gglwGCwE41ERGVSzdv3kTv3r2xePFidOvWDadPn0alSpXELotIdEx+uiaV5t1yppqIiMqZjIwMDBkyBKampvj666/x5ptvil0SUZnB5KdrMlneLUM1ERGVE7du3ULz5s1hZWWFjRs3wtXVFY6OjmKXRVSmcPxD19ipJiKiciI9PR1z585F9+7dERERAQDo1KkTAzWRBkx+uiZ7Gao5U01ERAbszJkzmD59Oh49eoSRI0eiR48eYpdEVKYx+emaIlRz9Q8iIjJQixcvxrp169CgQQMcOHAAbdu2FbskojKPoVrX2KkmIiIDJZfLYWRkhP/973+QSCSYNGkSLCwsxC6LyCBwplrXOFNNREQGJiEhAWPGjMGKFSsAAF27dsWMGTMYqImKgKFa116u/iFhqCYiojJOEATs3bsXPj4+OHnyJC/eQlQCTH66xk41EREZgIcPH2LatGn4+eef0a5dOyxbtgwNGzYUuywig8Xkp2ucqSYiIgPw4sULXL9+HYsWLcK7774LIyP+8pqoJJj8dI2rfxARURkVGxuLEydO4MMPP4Srqyuio6NhbW0tdllE5QJ/LNU1Gcc/iIiobMnNzcWaNWvg5+eHdevWITExEQAYqIl0iKFa1xSXKef4BxERlQG//fYbevXqhZCQEHTv3h1nzpyBi4uL2GURlTtMfrom5fgHERGVDRkZGXj77bdhZmaGLVu28KqIRHrEUK1ryvEPU3HrICKiCuvmzZtwdXWFlZUVNm/ejGbNmsHBwUHssojKNY5/6JjATjUREYkkLS0Ns2fPRvfu3REeHg4A6NChAwM1USlgp1rXOFNNREQiOHXqFKZPn474+HiMHj0ab775ptglEVUoTH66JsvNu+XqH0REVEq++OILrF+/Ho0aNcLBgwfh4eEhdklEFQ6Tn66xU01ERKVAEATI5XIYGxujQ4cOMDU1xcSJE2Fubi52aUQVEmeqdY0z1UREpGdPnz7FmDFjsGLFCgCAj48Ppk6dykBNJCKGal3j6h9ERKQngiBgz5498Pb2xunTp2Fvby92SUT0EmcUdI2daiIi0oMHDx4gKCgI58+fR/v27bFs2TLUr19f7LKI6KUiherHjx/jjz/+QGpqKry9veHg4IDExETY2tryV04KiplqhmoiItKhlJQU3Lx5E0uWLMGwYcNgZMRfNhOVJVqFaqlUii+//BLnz59XbmvRogUcHBywdetW1KxZE4GBgXor0qDIcgFjE0gkErErISIiA3f79m0cP34cEyZMgKurK2JiYmBlZSV2WUSkgVY/5u7duxeXL1/GuHHjsH79epV9rVu3xvXr1/VSnEGSybjyBxERlUhOTg5WrlyJ7t27Y+PGjUhMTAQABmqiMkyrUH3+/HkMGTIEXbt2hZOTk8q+KlWqICEhQS/FGSSplKMfRERUbNeuXUOvXr0QGhqKnj174syZM3BxcRG7LCJ6Da1aqikpKahdu3ah+3Nzc3VWkMGTSXnhFyIiKpaMjAwMGzYMFhYW2LZtG/z9/cUuiYi0pFWn2sXFBbGxsRr33b17F9WqVdNpUQZNylBNRERF89tvv0EQBFhZWWHLli04ffo0AzWRgdEqVHfu3BkHDhzApUuXIJfLAQASiQS3b9/GDz/8AC8vL70WaVBkMo5/EBGRVlJTUzFjxgz06NEDERERAID27dvDzs5O5MqIqKi0aqkGBATg3r17WLlyJSwsLAAACxcuRGZmJtq1a4c333xTr0UaFJkUMOGFX4iI6NUiIyMxY8YMPH36FGPHjuX/S4kMnFah2tjYGFOnTsWNGzdw7do1pKSkwMbGBq1atUKrVq30XaNBEWQ8UZGIiF4tODgYX375JZo0aYKvv/4a7u7uYpdERCWkVah+8eIFbG1t0aJFC7Ro0UJln1wuR2pqKi+VqsAl9YiISANBECCXy2FsbIzOnTvDysoKEyZMgJmZmdilEZEOaDVTPXbsWPz9998a992/fx9jx47VaVEGTZrLExWJiEhFfHw83nvvPSxfvhwA4OXlhSlTpjBQE5UjJb7GqUwm46VS85PJGKqJiAhAXnd6586d8PHxwblz5+Ds7Cx2SUSkJ4Wmv6ysLGRkZCjvp6SkIDk5WeWYnJwcnD9/nqMf+fHiL0REBCAuLg6ffvopoqKi0LFjRyxbtgx169YVuywi0pNCQ/Xhw4cRHh6uvB8SElLokwQEBOi2KkMmkwLm5mJXQUREIktLS8Off/6JpUuXIjAwEBKJROySiEiPCg3Vbdq0gYODAwRBwJYtW9CnTx9UrlxZ5RhTU1PUrFkTDRs21HuhBoNXVCQiqrD+/PNPHD9+HBMnTkTz5s0RHR0NS0tLscsiolJQaPqrX78+6tevDyDvQi//+9//uBi9Nrj6BxFRhZOTk4O1a9di7dq1sLOzQ2BgIFxcXBioiSoQrc4w9PPzY6DWllQKCTvVREQVxtWrV9GjRw+sWLECvXv3xpkzZ+Di4iJ2WURUyrROf48fP8aZM2fw+PFj5Obmqu2fOXOmTgszWBz/ICKqMDIyMvDOO+/AwsICYWFh8PPzE7skIhKJVunv77//xrx582Bvb4/ExERUr14daWlpSElJgaOjI38iz4+rfxARlXvXrl1DixYtYGVlha1bt6JZs2b8jS5RBafV+MfOnTvh7u6ONWvWAAA+/vhjbNq0CdOnT4cgCBg2bJheizQoMilnqomIyqmUlBRMmzYNb775JiIiIgCA5xwREQAtQ/U///wDb29v5XJAcrkcAODu7o6AgADs2LFDfxUaGo5/EBGVS8ePH4ePjw92796NDz/8EL179xa7JCIqQ7RKf7m5ubCwsICRkRFsbGzw4sUL5b6aNWsiLi5ObwUaHJmM4x9EROXMZ599ho0bN6JZs2bYunUrWrZsKXZJRFTGaBWqq1SpgmfPngHIC9FnzpxBmzZtAABnz57lr73y4/gHEVG5IAgCZDIZTExM4OXlBVtbW4wfPx5mZmZil0ZEZZBW4x+tWrXCjRs3AORdPfHy5ct47733MHr0aPz888/o2bOnXos0FIIgvDxRkaGaiMiQPXr0CCNGjMDy5csBAF5eXpg8eTIDNREVSqv0FxgYqPx7q1atsHDhQly6dAk5OTlo1aoVPDw89FagQXk5a85QTURkmORyOXbs2IFFixZBJpPB29tb7JKIyEAUK/01btwYjRs31nUthk8qzbtlqCYiMjj3799HUFAQLl68iE6dOmHp0qWoU6eO2GURkYHQavzjVR4+fIhVq1bpohbDJ3sZqjlTTURkcDIyMnD79m0sX74ce/bsYaAmoiJ5ZfoTBAFxcXFITExElSpVULNmTeW+uLg4hIeHIzo6mjNmCopQzdU/iIgMwq1bt3DixAlMmjQJzZs3xy+//AJLS0uxyyIiA1RoqH7+/DlCQ0Nx584d5bbOnTvjww8/RFhYGE6cOAFjY2P4+/ujf//+Wr/gtWvXsG3bNsjlcnTr1g39+vVTOyYqKgr79++HRCJBnTp18MknnxTxbYmEnWoiIoOQnZ2N1atXY/369XBwcMDw4cPh7OzMQE1ExVZo+tu5cyfu37+P/v37o169ekhISMD333+PBQsW4Pbt2+jQoYPym5C25HI5tmzZgjlz5sDZ2RkzZ86Eh4eHSgc8Pj4eBw8exOeff662JnaZx5lqIqIy7/LlywgKCsKdO3cwcOBAzJ8/H05OTmKXRUQGrtD0d+PGDQwcOFClk1y7dm0sWrQIfn5+GD16dJFfLDY2FlWrVkWVKlUAAB07dkRMTIxKqD558iS6d+8OGxsbAIC9vX2RX0c0MlneLUM1EVGZlJaWhhEjRsDKygrffvstunbtKnZJRFROFJr+UlJS0KRJE5Vtivuenp7FerHk5GSVzrazs7PKeAkAPH78GAAwd+5cyOVyDBo0CK1atSrW65U6dqqJiMqkX3/9Fa1atYKNjQ3CwsLQrFkzZfOGiEgXCk1/crkcpqamKtsU983NzYv1YoIgqG2TSCRqrxsfH4/58+cjOTkZ8+bNw/Lly2Ftba1yXGRkJCIjIwEAS5YsgYuLS7FqKikTExPla+emJiMZgJ2TIyxEqod0L/9nTOUXP+fy6fnz55g+fTrCwsKwdetWjBgxghcsK+f4b7liKIuf8ytbqtevX8eTJ0+U9+UvL25y7do1ZUdZoVOnTq99MWdnZyQlJSnvJyUlwdHRUeUYJycnNG7cGCYmJqhcuTKqV6+O+Ph4NGzYUOU4X19f+Pr6Ku8nJia+9vX1wcXFRfnawsvb1PQMpIlUD+le/s+Yyi9+zuXPsWPHMGvWLCQmJmLChAno0qULpFIpP+dyjv+WKwYxP+fq1atr3P7KUL1v3z6N2/fu3au2TZtQ3aBBA8THxyMhIQFOTk6IiorCxIkTVY5p164dzp8/D29vb6SkpCA+Pl45g13mcfUPIqIyYcGCBdi0aROaN2+OsLAwtGjRQuySiKicKzT9rVy5UucvZmxsjPfffx+LFi2CXC6Hj48PatWqhb1796JBgwbw8PBAy5Ytcf36dUyePBlGRkZ45513YGtrq/Na9IIz1UREohEEATKZDCYmJujatSscHR3x0UcfqY0yEhHpg0TQNOhsgAqOo5QWlfGPW1chXzUfRtOXQNKwuSj1kO7xV4kVAz9nw/bw4UNMnz4db7zxBmbMmFHocfycyz9+xhVDWRz/KPFlyikfZaeaXREiotIgl8sRFhaGrl27Ijo6GtWqVRO7JCKqoDinoEu8TDkRUam5d+8epkyZgujoaHh5eSEkJAS1atUSuywiqqAYqnVIUFz8hScqEhHpXXZ2Nu7du4eVK1di0KBBaku0EhGVJqY/XZLl5t3yREUiIr24efMmTpw4gcmTJ6Np06a4dOkSLCwsxC6LiIgz1TrFTjURkV5kZWVhyZIl6NWrF7Zv36685gEDNRGVFUUO1U+ePMGdO3eQnZ2tj3oMm5Qz1UREuhYTE4Pu3btj7dq1GDBgAE6fPg1nZ2exyyIiUqF1S/XUqVPYt28fnj17BgBYvHgx6tevj+XLl+ONN96Av7+/3oo0GDKu/kFEpEvp6ekYOXIkbGxssGvXLnh5eYldEhGRRlp1qs+cOYONGzfCzc0N48ePV9nXqFEjXLx4US/FGRx2qomIdCImJgZyuRzW1tbYvn07Tp06xUBNRGWaVqH6+++/R69evTBhwgS1y5HXqFEDjx490ktxBocz1UREJfLs2TNMmjQJ/fr1Q0REBADAw8MD1tbWIldGRPRqWqW/p0+fwt3dXeM+S0tLpKen67Qog8XVP4iIiu3HH3/E7NmzkZycjIkTJ+Ktt94SuyQiIq1plf5sbGyUZ1oX9PjxYzg4OOi0KIMlkwESCWDERVWIiIpi3rx52LJlC9544w3s2LEDbm5uYpdERFQkWoXq1q1bIyIiAm5ubnBycgIASCQSpKen48iRI2jbtq1eizQYUilgbMwLEBARaUEQBMhkMpiYmMDPzw9VqlTBuHHjYMIROiIyQFp95xo6dChmz56NKVOmoGnTpgCAb7/9Fo8ePYKFhQUGDhyo1yINhkzKlT+IiLTw4MEDTJs2DS1atMDMmTPRuXNndO7cWeyyiIiKTas5BXt7e4SEhKBnz55ISUmBk5MT0tLS4OXlhUWLFsHGxkbfdRqGl51qIiLSTC6XY+vWrejatSuuXLmCGjVqiF0SEZFOaP07NmtrawwdOhRDhw7VZz2GTSZjqCYiKsTdu3cxZcoUXL58GT4+PggJCWGoJqJyQ6tO9a5du7hsnjZkuYAJxz+IiDTJzc1FXFwcVq9ejW+//ZaBmojKFa061ceOHcOhQ4dQr149eHl5wdPTE3Z2dvquzfCwU01EpOLGjRs4fvw4goKC0LRpU1y6dAnm5uZil0VEpHNadao3b96MCRMmwM7ODt988w3GjRuHJUuW4OLFi8jNzdV3jYZDJuOFX4iIAGRmZuKLL75A7969sWvXLuWyrAzURFReaZUAzczMlGdmP3/+HOfPn8e5c+ewatUqWFpaon379vjggw/0XWuZJ0hzeeEXIqrwLl26hKCgINy7dw9Dhw7F3LlzYW9vL3ZZRER6VeSrlDg4OKB3794ICQnB3LlzYWlpidOnT+ujNsMjkzFUE1GFlp6ejlGjRkEmk2HPnj0IDQ1loCaiCqHICTA3NxcxMTE4e/Ysbty4AUEQCr2EeYXDJfWIqIKKjo6Gh4cHrK2t8e2336Jp06awsrISuywiolKjdai+desWzp49i19++QWZmZmoX78+hg8fzpMW85NJOVNNRBVKcnIyFixYgIiICKxatQqDBg1io4WIKiStEuCHH36I5ORkuLi4oHv37vDy8kL16tX1XZvhkUm5pB4RVQiCIODw4cOYM2cOXrx4gUmTJqFPnz5il0VEJBqtQnWLFi3g5eWF5s2b67sewyaTARaWYldBRKR38+fPx5YtW9CiRQvs2bOH/38gogpP6041aYGrfxBROSYIAqRSKUxNTeHv749q1aphzJgxMOHYGxFR4aE6NjYWtWrVgrm5OWJjY1/7RA0bNtRpYQaJq38QUTn1zz//YOrUqWjVqhVmzZqFTp06oVOnTmKXRURUZhSaAGfPno1FixahYcOGmD179mufaO/evTotzCBJpZBw9Q8iKkdkMhm2bt2KkJAQGBsbo2/fvmKXRERUJhUaqmfOnIkaNWoo/05a4OofRFSOxMbGYtKkSbh69Sq6deuGJUuW8CR1IqJCFJoAW7VqpfHv9AoyKcc/iKjckMlkiI+Px7p169CvXz9IJBKxSyIiKrO0uqLi5MmTERcXp3Hfw4cPMXnyZJ0WZbBkMnaqicigXb9+HcuWLQMANGnSBBcvXkRAQAADNRHRa2gVqh8/foycnByN+7Kzs/H48WOdFmWwpOxUE5FhyszMRHBwMHr37o09e/YgKSkJAGBmZiZyZUREhkGrUP0q//zzDy9FqyDjZcqJyPBcvHgRvr6++PLLLzF06FCcPn0azs7OYpdFRGRQCm2rHj16FMeOHVPeX7FiBUxNVa8WmJOTg+TkZLRv315/FRoSzlQTkYFJT0/H6NGjYW9vj71793KZPCKiYio0ATo6OqJevXoAgCdPnqB69eqwsbFROcbU1BQ1a9aEv7+/fqs0AIIgcJ1qIjIYly5dQrt27WBtbY0dO3agadOmsLTkFWGJiIqr0ATYvn17lQ700KFDUaVKlVIpyiDJZHm3PFGRiMqwpKQkzJ8/HwcOHMCqVaswaNAgtG7dWuyyiIgMnlYJcNKkSfquw/DJpHm3nKkmojJIEAQcOnQIc+fORWpqKoKCgnghFyIiHSo0VB86dAheXl5wcHDAoUOHXvkkEokEffr00XlxBkURqtmpJqIyaM6cOQgLC0Pr1q0RGhqKpk2bil0SEVG5UmgC3LVrF1xdXeHg4IBdu3a99okqfKiWKjrVDNVEVDYIggCpVApTU1P06tULderUwahRo2DM36gREelcoQlwx44dytU+duzYUWoFGSzFTDVDNRGVAffu3cO0adPQqlUrzJ49G56envD09BS7LCKicqvQdarzL59namr62j8VnjQ375ahmohEJJPJ8NVXX8HX1xe//fYb6tevL3ZJREQVglYJ8OnTp8jMzETdunUBALm5uTh48CAePHiAli1bolu3bvqs0TBw9Q8iEllsbCw++eQTXLt2DX5+fli8eDGqVasmdllERBWCVglw8+bNqFmzpjJU7927Fz/++COqVauG6OhoyOVy+Pn56bPOsu/liYoSzioSkUjkcjmePn2K3Wgb4wAAIABJREFUDRs2oE+fPpBIJGKXRERUYWh1mfL79++jWbNmAPJOfDlz5gyGDh2KFStWoF+/fjhx4oReizQIXP2DiETw66+/YsmSJQCAxo0bIyoqCn379mWgJiIqZVqF6oyMDNjZ2QHIC9ipqano0KEDAKBFixZ4+vSp/io0FFz9g4hKUUZGBhYsWIA+ffogPDwcycnJAAAzMzORKyMiqpi0CtV2dnbK4Hzjxg1UrlwZlSpVAgBkZWXByEirpynfuPoHEZWS8+fPw9fXF5s2bcLw4cNx+vRpODk5iV0WEVGFplUCbNOmDfbs2YP4+HhERkbCx8dHue/hw4eoXLmy3go0GFz9g4hKQXp6OsaNGwcHBweEh4crf2tIRETi0ioBBgYGIjMzE1FRUXjjjTcwYMAA5b6LFy/C1dVVbwUaDGWnmicqEpHuRUVFoX379rC2tsauXbvQuHFjWFpail0WERG9pFWotrKywscff6xx3+LFi3VakMHiiYpEpAeJiYmYO3cuvv/+e6xevRoDBw5Ey5YtxS6LiIgKKFICzMzMRGxsLNLS0mBra4sGDRqwU6Ig44mKRKQ7giDgwIEDmDdvHtLT0zF16lT07dtX7LKIiKgQWifAiIgIHDx4EDk5OcptZmZmCAgIQP/+/fVSnCERePEXItKh2bNnY/v27XB3d8fy5cvRuHFjsUsiIqJX0CoBHjt2DPv27UOnTp3QuXNnODg44Pnz5zh37hz27t0LGxsb+Pv767vWsk25pB5nqomoeORyOaRSKczMzNC7d2/Ur18f7733Hoz5fYWIqMzTKlT/9NNP8Pf3x6hRo1S2t2rVClZWVjh69ChDtXL8w1TcOojIIN29exdTp05F69atMXfuXHTs2BEdO3YUuywiItKSVgtMP336FG3bttW4r23btkhISNBpUQaJnWoiKgapVIoNGzbA398ff/75J8c8iIgMlFah2sbGBo8fP9a47/Hjx7CxsdFpUQaJM9VEVES3b9/GW2+9hUWLFsHHxwenT5/GkCFDxC6LiIiKQasE2LZtW+zevRv29vZo3749JBIJACA6Ohp79+6Fp6enXos0CDJe/IWIikYikSApKQkbN27Em2++qfzeSkREhkerBDhs2DDcu3cPq1atgomJCezt7ZGSkoLc3Fw0bNgQgYGB+q6z7GOnmoi0cPnyZZw4cQIzZ85Eo0aNcOHCBZia8lwMIiJDp/XFX4KDgxEdHY0//vgDaWlpsLGxQfPmzdG2bVsYGWk1RVK+caaaiF4hPT0dISEh2Lp1K6pVq4Zx48bBycmJgZqIqJzQuq1qZGSE9u3bo3379vqsx3DJpIDECBIjhmoiUnX27FlMmzYNDx48wMiRIzFz5kyei0JEVM68MlRfuHABR44cwZMnT2BlZYWOHTti8ODBXDNVE6mUXWoiUpOWloaPPvoIjo6O+O677/C///1P7JKIiEgPCp3buHjxItasWYPnz5+jSZMmMDc3x8GDB7Fnz57SrM9wyGScpyYipXPnzkEmk8HGxga7du3C8ePHGaiJiMqxQlPgDz/8gNatWyMoKAgmL8Pirl27cPToUQwdOpRz1AXJcrnyB/2/vTsPi7Lc3wB+D4vIMsoOPxckR7RjbiEu0UlF0ApMxQVbTI+WJyVKTSSXVDIJcytzSesyl5IkU0TN3DAixX3JsFIxLRFSgRAGUGbeeX9/mHMiUAbeYV5m5v5cV5fNMM7c8mTcPHzneYlw48YNvPXWW/j666/xwQcfYPjw4ejUqZPcsYiIqJ7dtxnn5uaif//++kINAOHh4aioqEB+fr5JwpkV7lQTWTVRFPHll18iJCQE+/fvx7Rp0zB48GC5YxERkYnctwWWlZWhSZMmle67d1utVsPb27t+k5kbzlQTWbXp06fjs88+Q7du3bBo0SK0adNG7khERGRCddpa5QUKqiFoOf5BZGV0Oh20Wi0aNWqEQYMGoV27dhg9ejTH44iIrNADW+CsWbOqvX/GjBmVbisUCiQlJRkvlTnSslQTWZPs7GxMnToVgYGBmDVrFh577DE89thjcsciIiKZ3LcFDho0yJQ5zJ4oCBz/ILICGo0Gq1evxpIlS+Do6MgryhIREYAHlGp+oaglQQvY8cpoRJbs/PnzeP3115GVlYXw8HAkJCTw/SVERASgjjPVVA2Bb1QksnQ2NjYoKirCxx9/jIiICLnjEBFRA8JSbSw8Uo/IIh07dgz79u3DzJkzERAQgEOHDlU6apSIiAh4wDnVVEtaXvyFyJKo1WrMnDkTkZGR2LFjBwoLCwGAhZqIiKpl8lJ95swZTJw4Ea+99hq2bdt238cdOXIEUVFRuHTpkgnTSSAILNVEFiI9PR19+/bF+vXr8dJLLyEtLQ3u7u5yxyIiogbMpC1Qp9NhzZo1eOutt+Dh4YHp06cjKCgILVq0qPS48vJyfPPNNwgICDBlPGl48Rcii6BWqxETEwMPDw+kpKSgW7duckciIiIzYNKd6uzsbPj6+sLHxwd2dnYIDg7G8ePHqzwuOTkZAwcOhL29GZ2mIWg5U01kxvbt2wdBEODi4oJNmzZhz549LNRERGQwg0t1UVERkpKSMGvWLEyePBk5OTkAgD179hg8olFYWAgPDw/9bQ8PD/2c4j2XL19Gfn4+unbtami0hkHQQsHxDyKzc/36dYwbNw4DBgzA1q1bAQAdOnRA48aNZU5GRETmxKAWeO3aNcyZMweCIEClUuHChQuoqKgAAOTm5urPbq2JKIpV7vv7Jc91Oh3Wr1+P6OjoGp9r//792L9/PwBg/vz58PT0NOSPYnR2dnbw9PTETVFEI2cXNJUpB9Wfe2tMlkUURWzYsAFxcXEoLy9HYmIixo0bxzciWjj+fbZ8XGPr0BDX2aCvHp999hm8vb0xc+ZMNG7cuNKFYdq1a4cvvvjCoBfz8PBAQUGB/nZBQQHc3Nz0t2/fvo2rV6/i7bffBnB3d3zBggWIi4uDSqWq9FxhYWEICwvT387Pzzcog7F5enoiPz8fuooK3NFqZctB9efeGpNliYuLw8aNG9GjRw8sXLgQPXr04DpbAf59tnxcY+sg5zo3a9as2vsNKtU//fQTXnvtNTg7O0On01X6mKurK/7880+DQqhUKuTl5eHGjRtwd3dHZmZmpR1uJycnrFmzRn87Pj4eL774YpVC3SAJWp7+QdTACYIArVYLBwcHDBkyBO3bt8eoUaNgY8PTRYmISBqDW+D9vuio1Wo0atTIoOewtbXF2LFjkZCQAJ1Oh5CQELRs2RLJyclQqVQICgoyNE7DwysqEjVoFy9exJQpU9C1a1fMmTMHPXv2RM+ePeWORUREFsKgUq1SqZCRkVHtmwePHDlSq6PvAgMDERgYWOm+ESNGVPvY+Ph4g59XdtypJmqQNBoNVq5ciQ8++ABOTk4YPXq03JGIiMgCGfQzz8jISBw9ehTz58/H4cOHAQA///wzPv74Yxw+fBiRkZH1GtIsaHmkHlFD88svv+Dpp5/GggUL8OSTTyI9PR1Dhw6VOxYREVkgg1pgp06dMHnyZKxbtw6nT58GAGzYsAFubm6YPHkyHn744XoN2dCJOh2g03H8g6iBsbOzQ2lpKdasWYOnnnpK7jhERGTBDN5a7dGjB7p3746rV6+iuLgYLi4u8PPz4xt8gLuXKAc4/kHUABw5cgT79u3DrFmz0KZNG3z//fc8Jo+IiOpdrb7SKBQK+Pn51VcW8yVo7/7KL9xEsikpKUFiYiLWr18PPz8/vPrqq3B3d2ehJiIikzDoq01mZmaNjwkODpYcxmxxp5pIVmlpaZg2bRry8vIwbtw4xMXFwcnJSe5YRERkRQxqgUuXLq3xMdZdqjV3f2WpJjI5tVqNiRMnwsvLC6mpqdWeUkRERFTfDGqB77//fpX7SkpKcPLkSRw9ehSvvvqq0YOZFe1fO9X8MTORSYiiiG+//Ra9e/eGi4sLNm3ahICAADg4OMgdjYiIrJRBLfB+l2Ns164dbGxssHfvXrRt29aowczKvZlqnv5BVO/++OMPTJ8+HXv37sXSpUsxbNgwdOjQQe5YRERk5SQf3dGhQwecOHHCGFnMl75Uc6eaqL6IooikpCSEhIQgIyMDs2bNwuDBg+WORUREBKCWp39U59KlS/yRq/ZuqVZw/IOo3sTFxSEpKQmPPfYYFi5ciIceekjuSERERHoGtcDU1NQq92m1Wly9ehXHjh1DaGio0YOZFZ7+QVQvBEGAVquFg4MDhg0bhk6dOuGFF17g+fhERNTgGNQCk5KSqtxnY2MDd3d3REREYPjw4UYPZla0PP2DyNjOnz+PKVOmoFu3bpgzZw569OiBHj16yB2LiIioWga1wM8//7zKfba2ttwtukfg6R9ExlJRUYEVK1Zg6dKlUCqVGDdunNyRiIiIalRjK9Zqtdi8eTOuXr0Ke3t7/T8s1H/D0z+IjOLnn39GeHg4Fi1ahIiICKSnp2PQoEFyxyIiIqpRjVurdnZ22LVrF7p06WKKPOaJp38QGYW9vT3Ky8uxdu1a9O/fX+44REREBjNou7lVq1bIycmp7yzm66/TPzj+QVR7mZmZePvttwEAbdq0QUZGBgs1ERGZHYNK9ciRI5GamoqzZ8/Wdx7zpD/9g+MfRIYqLi7Gm2++ieHDh2Pv3r0oLCwEcPf9GkRERObGoK3Vjz76CGVlZUhISICDgwNcXV2hUCgqPWbp0qX1EtAciPrTP+zlDUJkJvbt24dp06bhxo0bGD9+PGJjY+Ho6Ch3LCIiojozqFS3bt26vnOYN+5UExlMrVbjjTfegI+PD9asWcP3axARkUUwqFRPmjSpvnOYN4Ez1UQPIooi0tLSEBISAhcXFyQnJ6NNmzZo1KiR3NGIiIiM4r4z1TExMbhy5YoJo5gxnv5BdF+5ubn4z3/+g9GjRyMlJQUA0L59exZqIiKyKPct1Tdv3oT23qkW9GC8+AtRFTqdDp999hlCQkJw8OBBzJkzB5GRkXLHIiIiqhdsgcag5cVfiP4pLi4OX3zxBR5//HEsWLAA/v7+ckciIiKqNyzVxqAf/+DpH2TdBEGARqNB48aNERUVhcDAQDz33HNVTgsiIiKyNA8s1Zs3b4ZSqTToiWJiYowSyCxxp5oIP//8M2JjY9GtWzfEx8eje/fu6N69u9yxiIiITOKBpfrKlSuwM2BO2Op3oQQBsLGBwsaga+kQWZQ7d+5g2bJlWLZsGZo2bYr//ve/ckciIiIyuQc25qlTp6JNmzamymK+BA1P/iCrdO7cOcTExODChQsYMmQI3n77bbi7u8sdi4iIyOTYBI1BEHjyB1mlxo0bQ6PRYMOGDQgNDZU7DhERkWw4r2AMWi3nqclqHDx4ELNnzwYAqFQqfPfddyzURERk9ViqjUHQ8uQPsni3bt3C1KlTMWLECBw4cACFhYUAAFt+Q0lERHT/8Y/k5GRT5jBv3KkmC7dnzx5Mnz4dN2/eRHR0NN544w04OjrKHYuIiKjB4CCwMQgCSzVZLLVajdjYWPj4+GDt2rXo3Lmz3JGIiIgaHJZqIxAFDWDH8Q+yHKIoYt++fQgNDYWLiws2b94MlUoFe3v+d05ERFQdzlQbA3eqyYJcu3YNo0aNwpgxY5CSkgIAePjhh1moiYiIHoCl2hi0Wp5TTWZPp9Nh3bp1CAkJweHDhzF37lxERkbKHYuIiMgssAkag6DlOdVk9mJjY5GcnIwnnngCCxYsgJ+fn9yRiIiIzAaboDEIAneqySxptVpotVo0btwYzz33HHr06IGoqCgoFAq5oxEREZkVjn8Yg8Aj9cj8nDt3DgMGDEBiYiIAoFu3bhgxYgQLNRERUR2wVBuDVsvTP8hs3LlzBwsWLEB4eDjy8vLQrVs3uSMRERGZPc4sGAN3qslMZGVlISYmBhcvXsTw4cMxZ84cuLm5yR2LiIjI7LFUG4MgQMGZajIDTk5O0Ol02LhxI/r06SN3HCIiIovB8Q9j0Gr4RkVqsDIyMjBr1iyIoojWrVsjPT2dhZqIiMjI2ASNQRB4pB41OEVFRZg7dy6Sk5PRunVr/Pnnn3B3d4eNDb+XJiIiMjZ+dTUGzlRTA7Nr1y6EhITgq6++QkxMDPbt2wd3d3e5YxEREVksbq8aAy/+Qg1ISUkJpk2bBl9fX2zYsAEdO3aUOxIREZHFYxM0Bl6mnGQmiiL27NmDsLAwKJVKbN68Ga1bt4a9PY96JCIiMgWOfxiDIHD8g2STk5ODkSNH4qWXXsK2bdsAAO3atWOhJiIiMiGWamPQagFbFhgyLZ1Oh7Vr1yIkJATHjh3DvHnzMGTIELljERERWSXOLEgkCgIg6rhTTSY3ZcoUfPnll+jTpw/ee+89tGjRQu5IREREVoulWipBe/dXvlGRTECj0UCr1cLR0RHPP/88goODMWzYMCgUCrmjERERWTWOf0gk3ivVfKMi1bOsrCwMGDAAiYmJAIBu3bph+PDhLNREREQNAEu1VFrh7q/cqaZ6cvv2bSQmJiI8PBzXr19Hz5495Y5ERERE/8AmKJGo1dz9F85UUz3IyspCdHQ0Ll26hBEjRmD27NlwdXWVOxYRERH9A0u1VBz/oHrk5OQEGxsbfPHFF+jVq5fccYiIiOg+OP4hkai5t1PNUk3G8e2332LmzJkQRRGtW7fGgQMHWKiJiIgaOJZqqXj6BxlJYWEhJk6ciJEjR+LgwYMoKioCANjY8K8pERFRQ8ev1hKJ2rulWsGdaqojURSxc+dOhISEYNu2bZg4cSL27t0LNzc3uaMRERGRgdgEpeJONUmkVqsxY8YMNG/eHElJSXjkkUfkjkRERES1xCYo0f9mqnn6BxlOFEV888036N+/P5RKJbZs2YKHHnoIdvzmjIiIyCxx/EMqnv5BtXT16lU8//zzGDduHFJTUwEAAQEBLNRERERmjKVaonsz1SzVVBNBELBmzRr07dsXJ0+exLvvvovIyEi5YxEREZERsAlKpeVMNRlmypQp2Lx5M/r27Yv58+ejefPmckciIiIiI2ETlOh/V1Tkp5Kq0mg00Gq1cHR0xMiRI/HEE09gyJAhUCgUckcjIiIiI+L4h1T6mWq+UZEqO3v2LJ5++mm8++67AICgoCAMHTqUhZqIiMgCsVRLJHL8g/6hvLwcCQkJiIiIwJ9//oknnnhC7khERERUz9gEpeIbFelvzp49i+joaFy+fBnPP/883nrrLTRt2lTuWERERFTP2AQl4kw1/Z1SqYSDgwM2bdrEHWoiIiIrwvEPqfRXVORMtbVKS0vD9OnTIYoiHnroIezfv5+FmoiIyMqwVEulH/+wlzcHmVxhYSFee+01jBo1CkeOHEFRUREA8I2IREREVoilWqL/XfyFO9XWQhRFbN++HX369MH27dsxefJk7N69G25ubnJHIyIiIpmYfBD4zJkzWLt2LXQ6HUJDQzF48OBKH9+5cyfS0tJga2uLJk2aYMKECfDy8jJ1TMMJPP3D2qjVasyaNQstWrTApk2b0L59e7kjERERkcxMulOt0+mwZs0azJgxA++//z4OHTqEnJycSo/x9/fH/PnzsWjRIvTs2ROff/65KSPWGt+oaB1EUcSOHTug1WqhVCqxZcsWbN++nYWaiIiIAJi4VGdnZ8PX1xc+Pj6ws7NDcHAwjh8/XukxHTp0gIODAwAgICAAhYWFpoxYe1otYGvLOVoLdunSJYwYMQLjx49HamoqAKBNmzaw408niIiI6C8mLdWFhYXw8PDQ3/bw8HhgaT5w4AC6dOliimh1Jv5VqsnyCIKA1atXo2vXrjh79izee+89REZGyh2LiIiIGiCTbrWJoljlvvvt8GZkZODXX39FfHx8tR/fv38/9u/fDwCYP38+PD09jZazNtSiDgq7RrK9PtWfsWPHYuPGjYiIiMCHH36IFi1ayB2J6pGdnR3/HlsBrrPl4xpbh4a4ziYt1R4eHigoKNDfLigoqPbEhLNnzyIlJQXx8fGwt6/+qLqwsDCEhYXpb+fn5xs/sAEaVdyBaGMj2+uTcVVUVEAQBDg6OmLEiBEIDg7GSy+9hIKCAq6xhfP09OQaWwGus+XjGlsHOde5WbNm1d5v0vEPlUqFvLw83LhxA1qtFpmZmQgKCqr0mMuXL+OTTz5BXFyceVzeWavlyR8W4syZM3j66aeRkJAAAOjatSsGDx7MeXkiIiKqkUnboK2tLcaOHYuEhATodDqEhISgZcuWSE5OhkqlQlBQED7//HPcvn0bS5YsAXD3O5E333zTlDFr5e5MNUu1OSsvL8fChQvxySefwNvbG7169ZI7EhEREZkZk7fBwMBABAYGVrpvxIgR+n+fNWuWqSNJI/CNiubshx9+QHR0NK5cuYKRI0di5syZaNKkidyxiIiIyMxwi1UiUavhTrUZa9KkCRwdHfHll1/i8ccflzsOERERmSleplwqjn+Ynb179+LNN9+EKIp46KGHsG/fPhZqIiIikoSlWiKRb1Q0GwUFBXj11VcxZswYnDx5EkVFRQDuf6wjERERkaFYqqXiTHWDJ4oiUlJS0Lt3b3z99deIjY3Frl27qj3OkYiIiKguuMUq0d2d6urP0qaGQa1WIz4+Hv7+/li8eDHatWsndyQiIiKyMCzVUmk1LNUNkE6nw44dOxAREQGlUomtW7fC398ftvypAhEREdUDjn9IJAoC36jYwFy+fBlRUVGIjo7G9u3bAdy98BALNREREdUXlmqpeKReg6HVarFq1SqEhYXh3LlzWLRoESIjI+WORURERFaAbVAiUauFgqd/NAiTJ0/G1q1b0b9/fyQmJsLX11fuSERERGQl2Aal0mp4+oeM7ty5A0EQ4OTkhDFjxiAsLAwDBw7kMXlERERkUhz/kEgUBJ5TLZOTJ0/iqaeewrx58wAAgYGBGDRoEAs1ERERmRxLtVScqTa5srIyzJkzB4MGDYJarUZoaKjckYiIiMjKsQ1KJPIy5SZ15swZTJgwAb///jtGjx6N6dOnQ6lUyh2LiIiIrBzboFQs1Sbl5uYGpVKJLVu2oGfPnnLHISIiIgLA8Q/JREHLmep6tnfvXkydOhWiKKJVq1bYs2cPCzURERE1KCzVUvH0j3qTn5+PCRMmYMyYMTh9+jSKiooAgG9EJCIiogaHpVoCUScAosjxDyMTRRFbtmxB7969sXv3bsTFxeGbb76Bm5ub3NGIiIiIqsU2KIVWe/dXjn8YlVqtxjvvvAOVSoXFixcjICBA7khERERED8Q2KIUg3P2V4x+S6XQ6pKam4plnnoFSqcTWrVvRqlUr2PJzS0RERGaApVqKezvVtvby5jBzly5dwtSpU3H06FGIooghQ4agdevWcsciIiIiMhhnqqUQ7pVq7qbWhVarxYoVK9CvXz/88ssvWLJkCSIjI+WORURERFRr3KmW4t74B2eq62Ty5MnYunUrwsPDkZCQAG9vb7kjEREREdUJ26AUguburzz9w2B37tyBIAhwcnLC2LFj8dRTTyEiIkLuWERERESScPxDCu5U18rx48fRv39/zJs3DwDw6KOPslATERGRRWCpluKvNyoqOFP9QKWlpZg9ezYiIyNRXl6Ofv36yR2JiIiIyKi4xSqFwNM/anLq1ClMmDABOTk5GDNmDKZNmwYXFxe5YxEREREZFUu1FFqe/lETDw8PuLm5YdmyZejevbvccYiIiIjqBcc/pOBMdbV27dqFKVOmQBRFtGrVCt988w0LNREREVk0lmopePpHJTdu3MC4ceMwbtw4ZGVl4datWwAAhUIhczIiIiKi+sVSLQV3qgEAoijiyy+/REhICNLS0jB9+nTs3LkTrq6uckcjIiIiMgnrboNScaYaAKBWq5GYmIi2bdti4cKFaNOmjdyRiIiIiEyKpVoK/ekf1vdp1Ol0SElJwcCBA6FUKpGSkgI/Pz/Y2PCHH0RERGR9rK8NGpGotc5SnZ2djdjYWBw/fhw2NjaIjIyEv7+/3LGIiIiIZMNtRSnuzVRbyfiHRqPBhx9+iH79+uHixYv44IMPMHjwYLljEREREcnOurZYje3e6R921nHxl8mTJyMlJQURERFISEiAl5eX3JGIiIiIGgSWaimsYKe6vLwcOp0Ozs7OePnllxEeHo7w8HC5YxERERE1KBz/kOLeGxUt9Ei9o0ePon///njnnXcAAF26dGGhJiIiIqoGS7UUFvpGRbVajRkzZmDIkCHQaDQs0kREREQ1sKw2aGr68Q/L+TSePHkSEyZMQG5uLl5++WXExcXB2dlZ7lhEREREDZrltEE5WODFX7y8vODl5YWVK1ciKChI7jhEREREZoHjH1IIWsDODgqFQu4kdSaKInbu3InJkydDFEX4+flh586dLNREREREtcBSLYWgNevRj+vXr2PcuHF45ZVX8Msvv+DWrVsAYNbfJBARERHJgaVaCkGAwgzPqBZFEZs2bUJISAi+/fZbvPXWW9ixYwdcXV3ljkZERERklsx3m7Uh0GrMcp5arVbjvffew7/+9S8sWLAAKpVK7khEREREZo2lWgpBgMLePHaqBUHAli1bEBkZCaVSiW3btqFly5awseEPK4iIiIikYqmWQmseM9UXLlzAlClTcOrUKTRq1AiDBw9Gq1at5I5FREREZDG4TSmFoIWiAZfqiooKvP/++3jyySdx+fJlLFu2DIMGDZI7FhEREZHFabiN0AyIfx2p11BNmjQJqampGDRoEObOnQtPT0+5IxERERFZpIbbCM2BIEBhZwdR7hx/U15eDp1OB2dnZ7zyyisYPHgw+vfvL3csIiIiIovG8Q8ptBqgAR2pd/jwYYSFhWHu3LkAgM6dO7NQExEREZkAS7UUgtAgZqpLSkowbdo0DBs2DKIo4plnnpE7EhEREZFVkb8RmjOtFmjcWNYIJ06cwPjx43H9+nX897//xdSpU+Hk5CRrJiIiIiJrw1IthaCFQuY3Kvr4+MB5A4D9AAAW4UlEQVTX1xcff/wxAgMDZc1CREREZK04/iGFIJh8ploURaSmpmLixIkQRREtW7bEjh07WKiJiIiIZMRSLYWJz6nOy8vD2LFjER0djezsbNy6dQsAoFAoTJaBiIiIiKpiqZZC0AL29V+qRVHExo0bERISgoyMDMyePRvbt2+Hq6trvb82EREREdWMM9VSaE2zU61Wq7F48WJ07NgRCxcuhL+/f72/JhEREREZjqVainqcqRYEAZs3b8bQoUOhVCqRmpqKFi1acNSDiIiIqAFiqZZCq6mXnepffvkFsbGxOH36NBwdHTFo0CC0bNnS6K9DRERERMbBmWopBMGoM9UVFRVYsmQJnnrqKfz2229YuXIlBg4caLTnJyIiIqL6wZ1qKYx8+sekSZOQmpqKyMhIzJ07F+7u7kZ7biIiIiKqPyzVUghayTPV5eXlEAQBLi4uGD9+PCIjI9GvXz8jBSQiIiIiU+D4Rx2Joij59I9Dhw4hNDQUc+fOBQB06tSJhZqIiIjIDLFU15VOd/fXOlymvLi4GHFxcYiKioJCoUBkZKSRwxERERGRKXH8o660WgCAopal+vjx4xg/fjxu3LiBCRMmYMqUKXB0dKyPhERERERkIizVdSXcLdWo5fiHr68vWrRogU8//RSdO3euh2BEREREZGoc/6irv0q1wv7Bb1QURREpKSl47bXXIIoiWrZsidTUVBZqIiIiIgvCUl1XBuxUX7t2DaNHj0ZMTAwuX76M4uJiE4UjIiIiIlNiqa4rQQBQ/Uy1TqfDZ599hr59+yIzMxPx8fFITU1F06ZNTZ2SiIiIiEyAM9V1pb3/TnVpaSnef/99dOnSBQsWLECrVq1MHI6IiIiITMnkpfrMmTNYu3YtdDodQkNDMXjw4Eof12g0WL58OX799VcolUpMmjQJ3t7epo5Zs3/MVGu1WiQnJyMqKgpKpRI7duxAs2bNoFAo5ExJRERERCZg0vEPnU6HNWvWYMaMGXj//fdx6NAh5OTkVHrMgQMH4OzsjGXLliEiIgIbN240ZUTD/W2n+ty5c3jmmWcQFxeHXbt2AQCaN2/OQk1ERERkJUxaqrOzs+Hr6wsfHx/Y2dkhODgYx48fr/SYEydOoE+fPgCAnj17Iisr6+7VCxuav2aqk778EuHh4bh27Ro++ugjDBw4UOZgRERERGRqJi3VhYWF8PDw0N/28PBAYWHhfR9ja2sLJycnlJSUmDKmYQQNACApORmDBg1Ceno6Bg4cyN1pIiIiIitk0pnq6nac/1lCDXkMAOzfvx/79+8HAMyfPx+enp5GSmkYTbEP/mjuj/gF/8W/X/iPSV+bTMvOzs7k/32R6XGdrQPX2fJxja1DQ1xnk5ZqDw8PFBQU6G8XFBTAzc2t2sd4eHhAEASUlZXBxcWlynOFhYUhLCxMfzs/P7/+gleniQcc4z/Evz09Tf/aZFKeXGOrwHW2Dlxny8c1tg5yrnOzZs2qvd+k4x8qlQp5eXm4ceMGtFotMjMzERQUVOkxXbt2RXp6OgDgyJEjeOSRRzhSQUREREQNmkl3qm1tbTF27FgkJCRAp9MhJCQELVu2RHJyMlQqFYKCgtC3b18sX74cr732GlxcXDBp0iRTRiQiIiIiqjWF2CCP1qi93NxcWV6XP2ayfFxj68B1tg5cZ8vHNbYOVj/+QURERERkiViqiYiIiIgkYqkmIiIiIpKIpZqIiIiISCKWaiIiIiIiiViqiYiIiIgkYqkmIiIiIpKIpZqIiIiISCKWaiIiIiIiiViqiYiIiIgkYqkmIiIiIpKIpZqIiIiISCKWaiIiIiIiiViqiYiIiIgkYqkmIiIiIpJIIYqiKHcIIiIiIiJzxp1qiaZNmyZ3BKpnXGPrwHW2Dlxny8c1tg4NcZ1ZqomIiIiIJGKpJiIiIiKSyDY+Pj5e7hDmrnXr1nJHoHrGNbYOXGfrwHW2fFxj69DQ1plvVCQiIiIikojjH0REREREEtnJHcAcnDlzBmvXroVOp0NoaCgGDx5c6eMajQbLly/Hr7/+CqVSiUmTJsHb21umtFRXNa3zzp07kZaWBltbWzRp0gQTJkyAl5eXTGmprmpa53uOHDmCJUuWIDExESqVysQpSQpD1jgzMxObN2+GQqFAq1atMHHiRBmSkhQ1rXN+fj5WrFiB0tJS6HQ6PP/88wgMDJQpLdXFypUrcerUKTRt2hSLFy+u8nFRFLF27VqcPn0aDg4OiI6OlnckRKQHEgRBjImJEf/44w9Ro9GIsbGx4tWrVys9Zvfu3eLq1atFURTFgwcPikuWLJEjKklgyDr/+OOP4u3bt0VRFMU9e/Zwnc2QIessiqJYVlYmzp49W5wxY4aYnZ0tQ1KqK0PWODc3V5w6dapYUlIiiqIoFhUVyRGVJDBknVetWiXu2bNHFEVRvHr1qhgdHS1HVJLg3Llz4qVLl8Q33nij2o+fPHlSTEhIEHU6nXj+/Hlx+vTpJk5YGcc/apCdnQ1fX1/4+PjAzs4OwcHBOH78eKXHnDhxAn369AEA9OzZE1lZWRA5qm5WDFnnDh06wMHBAQAQEBCAwsJCOaKSBIasMwAkJydj4MCBsLe3lyElSWHIGqelpeHJJ5+Ei4sLAKBp06ZyRCUJDFlnhUKBsrIyAEBZWRnc3NzkiEoStG/fXv/3tDonTpxAr169oFAo0LZtW5SWluLPP/80YcLKWKprUFhYCA8PD/1tDw+PKmXq74+xtbWFk5MTSkpKTJqTpDFknf/uwIED6NKliymikREZss6XL19Gfn4+unbtaup4ZASGrHFubi7y8vIwa9YszJw5E2fOnDF1TJLIkHUePnw4vv/+e4wfPx6JiYkYO3asqWNSPSssLISnp6f+dk1fu+sbS3UNqttxVigUtX4MNWy1WcOMjAz8+uuvGDhwYH3HIiOraZ11Oh3Wr1+PUaNGmTIWGZEhf5d1Oh3y8vIwZ84cTJw4EatWrUJpaampIpIRGLLOhw4dQp8+fbBq1SpMnz4dy5Ytg06nM1VEMoGG1r9Yqmvg4eGBgoIC/e2CgoIqP0L6+2MEQUBZWdkDf1xBDY8h6wwAZ8+eRUpKCuLi4jgaYIZqWufbt2/j6tWrePvtt/Hqq6/i4sWLWLBgAS5duiRHXKoDQ/4uu7u7o1u3brCzs4O3tzeaNWuGvLw8U0clCQxZ5wMHDuCxxx4DALRt2xYajYY/RbYwHh4eyM/P19++39duU2GproFKpUJeXh5u3LgBrVaLzMxMBAUFVXpM165dkZ6eDuDuiQGPPPIId6rNjCHrfPnyZXzyySeIi4vjDKaZqmmdnZycsGbNGqxYsQIrVqxAQEAA4uLiePqHGTHk73L37t2RlZUFACguLkZeXh58fHzkiEt1ZMg6e3p66tc5JycHGo0GTZo0kSMu1ZOgoCBkZGRAFEVcuHABTk5OspZqXvzFAKdOncL69euh0+kQEhKCIUOGIDk5GSqVCkFBQaioqMDy5ctx+fJluLi4YNKkSfwftBmqaZ3feecd/P7773B1dQVw93/Yb775psypqbZqWue/i4+Px4svvshSbWZqWmNRFLFhwwacOXMGNjY2GDJkCB5//HG5Y1Mt1bTOOTk5WL16NW7fvg0AGDlyJDp37ixzaqqNDz74AD/99BNKSkrQtGlTREVFQavVAgD69+8PURSxZs0a/PDDD2jUqBGio6Nl/f81SzURERERkUQc/yAiIiIikoilmoiIiIhIIpZqIiIiIiKJWKqJiIiIiCRiqSYiIiIikshO7gBERMaUnp6OlStXVvuxt956C506dTL4udLS0rB69Wp89NFHlS6JXF82bdqErVu36m87Ozvj//7v/xAREWH0I98EQcBzzz2HESNGYOjQoQCAo0ePIj8/HxEREZUee/bsWcybNw9z587Fww8/bNQc9/PHH3/g9ddf199WKBRo2rQpOnbsiBdeeAHu7u61fs5ff/0VJ06cQEREBJydnY0Zl4iIpZqILNMbb7xRpXi1aNFCpjS1M2/ePACAWq3Gvn37sHTpUmi1WvTu3dtor2Fra4t58+bB09NTf9/Ro0dx/vz5KqW6TZs2mDdvHlq2bGm01zfUkCFDEBgYCK1WiwsXLuCrr75Cbm4u5s2bB1tb21o91+XLl/HVV1+hT58+LNVEZHQs1URkkfz9/eHr6yt3jDpp27at/t87deqESZMmYdeuXUYt1f98nQdxcnIy+LHG5uvrq3/t9u3bQ6PRYPPmzbhy5QovykNEDQpLNRFZnYqKCmzcuBE//vgjbt68CUdHR6hUKrz44oto1qzZA39vRkYGduzYgT/++AM2Njbw8vLC008/jdDQUP1jsrKysGXLFmRnZwMA/vWvf2HUqFF12im3s7ODv78/fvzxR/19ZWVlSEpKwrFjx1BSUgJvb288+eSTCA8Pr/SYL774AidOnMCtW7fg7OwMPz8/vPTSS2jWrFmV8Y8PP/wQBw8eBABERUUBAHx8fLBs2bIq4x+rV6/GqVOn8NFHH8HG5n9vzamoqMC4ceMQGhqKUaNGAQBu3bqF5ORknDx5EsXFxfD19cUzzzyDvn371vpzAQAPPfQQACA/P79Sqd60aRNOnTqF69evw87ODq1atcLzzz+PNm3aAPjfKA8AxMTE6H/fvdEeQRCQmpqK7777Djdv3oRSqcS///1vPPvss7C3t69TViKyLizVRGSRdDodBEHQ31YoFPoCWFFRgYqKCgwbNgyurq4oKSnBnj17MHPmTHzwwQdo2rRptc/5008/YcWKFQgPD8eoUaOg0+mQk5OD0tJS/WOOHz+OxYsXIygoCBMnToROp0Nqaipmz56NRYsW1WkW+MaNG3ByctL/ud5991389ttvGDFiBFq2bIkTJ05g3bp1KCkpwYgRIwAA69atw5kzZ/Dss8/C19cXJSUl+OWXX1BWVlbta0RFRaGkpAS//fYbYmNjAQCNGjWq9rG9e/dGWloafvzxx0qXfT5x4gTKy8vRq1cvAEBpaSlmzZoFQRAQFRUFLy8vnD59GqtXr4ZWq0X//v1r/bm4efMmgLuF/+8KCwsxYMAAeHh44Pbt2/juu+8we/ZsvPfee2jZsiW6deuG69evY9u2bYiNjYWrqysA6Nd66dKlOH36NAYPHoyAgADk5OQgOTkZ+fn5mDx5cq1zEpH1YakmIos0adKkSrfbtWuHd955BwDg4uKCV155Rf8xnU6Hzp074+WXX0ZmZiaefvrpap/zwoULUCqVGD16tP6+v5dKURSxbt06dOzYUV9MAeCRRx5BTEwMdu7cqd/BfZB73wyUlJRg9+7duHLlCgYMGADgbnG9cOECYmJi9OW1c+fOuH37NrZv346IiAi4uLjgwoUL6NWrV6Ud4R49etz3NX19faFUKmFvb1/jqEe7du3g7e2NjIyMSn/+jIwM+Pn5wd/fHwDw9ddfo6CgAIsXL9aP4nTq1AmlpaXYvHkzwsLCKu10V+feN0cajQYXL17Etm3bEBwcrH+Ne6Kjoyv9ns6dO2Py5Mn49ttvMWrUKDRp0kRfxP39/eHt7a1/fFZWFo4cOYLXX38d//73v/U5nZycsHLlSgwdOhR+fn4PzElExFJNRBYpNja20okdjo6OlT5+6NAh7Ny5E7m5uSgvL9ffn5ube9/nVKlUKC4uxvLlyxEcHIyHH35Yv4MMANeuXcPNmzcRFRVVaZe8cePGCAgIwM8//2xQ9ueee07/7/b29hgwYID+vp9//hm2trZVTgN54okn8N133+HixYt49NFHoVKpcODAAbi4uKBTp07w9/evscAaSqFQ4IknnsDOnTtx+/ZtNG7cGMXFxfjhhx8qZT9z5gzatWsHLy+vSp+Pzp07Iz09Hbm5uTWOxKxatQqrVq3S31apVHj11VerPO6HH35ASkoKfv/9d6jVav39D1rPv+e0t7dH9+7dq+QE7n7OWaqJqCYs1URkkfz8/O77RsVjx45h6dKl6NOnD4YPH44mTZpAoVAgISEBGo3mvs/ZsWNHTJo0CXv27MHChQsB3N2FHjVqFPz8/FBcXAwAWLFiBVasWFHl9/9zZOF+EhMTAdw9Us/T0xN2dv/7X7VarYZSqaxy8sW9cYZ7hfLll1/G1q1bkZaWhqSkJCiVSvTu3RvPPvvsfcc6aqN3797YsmULjh07hl69euHgwYPQ6XT6nV7g7jx1dnZ2paL9dyUlJTW+zrBhw9C1a1fcuXMHmZmZ2Lt3Lz799NNKP2nIzs7G/Pnz8eijj2LChAlwdXWFjY0NVq5c+cD1vKe4uBgajQYjR46sc04iIpZqIrI6hw4dQvPmzSuNDFRUVFSajb6f4OBgBAcH4/bt28jKysLGjRuRmJiIlStXwsXFBQAwcuRIPPLII1V+r6FveHvQqRYuLi4oKSmBIAiVinVRUREAQKlUAri7M//CCy/ghRdewI0bN3DkyBEkJSXB3t7+viW3Nnx9fREQEIDvv/8evXr1wvfff4+OHTtWmhlXKpXw9PS878hLTW8KBQBvb2/956N9+/YoKyvDgQMH0K9fP7Ru3RoAcOTIEdjb22PKlCmVPidqtVr/zcaDuLi4wMHBAfHx8dV+3M3NrcbnICLiFRWJyOrcuXOnyihERkYGRFE0+DkaN26MoKAghIaGoqCgAKWlpWjRogU8PDyQk5MDlUpV5R9jjBC0b98egiDg6NGjle4/ePAg7O3t9add/J23tzcGDhyIFi1a4OrVq/d9bnt7e1RUVBicpVevXvjxxx+RlZWFS5cu6We87+nSpQtycnLg5eVV7efjnyM5hhg5ciTs7Ozw1Vdf6e+rqKiAra0tFAqF/r4ffvgBf/75Z5U/373H/zPnnTt3cOfOnWpz1uXNpURkfbhTTURWp0uXLvj000+xYcMGPProo7h06RL27NlTY8n74osvUFJSgg4dOsDV1RX5+fnYvXs3VCqVfpf6pZdewqJFi1BRUYHHHnsMSqUSRUVFOH/+PHx8fCode1cXXbt2Rdu2bbF69WoUFRWhefPmOHnyJNLT0zF06FB9jhkzZqB79+7w8/ODg4MDzp07h6tXryIsLOy+z92iRQt8++232L9/P/z9/dGoUaMHfiPw+OOPY/369Vi+fDkcHBzQvXv3Sh9/5plncPjwYcyZMwcRERH4v//7P5SXlyM3Nxfnz5/H1KlTa/3nd3d3R79+/bBr1y5cuXIF/v7+6NKlC3bv3o2VK1eid+/euHbtGrZu3Vplh/ne/Pbu3bvRq1cv2NraolWrVujUqRN69uyJhQsXYsCAAfpvTG7evIlTp05h1KhRZnvmORGZDks1EVmd/v37o7CwEN999x327t2LgIAAvPnmm5g/f/4Df19AQAB2796NdevWQa1Wo2nTpujcuTOeffZZ/WOCgoIQHx+PlJQUrFq1ChUVFXB1dUVAQIBRLjVuY2ODGTNmICkpCdu2bdOfU/2f//ynUmF/+OGHkZmZiZSUFOh0Ovj4+GDMmDF46qmn7vvcYWFhyM7OxsaNG1FaWqo/p/p+XFxc8Oijj+L48ePo1asXGjduXOnjzs7OSEhIwObNm5GSkoLCwkI4OzujefPm6NmzZ50/B5GRkUhLS8NXX32F2NhYBAYGYvTo0di1axcOHz4MPz8/vP7660hOTq70+1q3bo2hQ4fiwIED2LdvH0RR1J9Tfe8CO+np6di6dSvs7e3h5eWFzp07o0mTJnXOSkTWQyHW5uedRERERERUBWeqiYiIiIgkYqkmIiIiIpKIpZqIiIiISCKWaiIiIiIiiViqiYiIiIgkYqkmIiIiIpKIpZqIiIiISCKWaiIiIiIiiViqiYiIiIgk+n+srPrH1EFj1QAAAABJRU5ErkJggg==",
"text/plain": [
"<Figure size 864x576 with 1 Axes>"
]
},
"metadata": {},
"output_type": "display_data"
}
],
"source": [
"# AUC Curve\n",
"false_positive_rate, true_positive_rate, threshold = roc_curve(test_generator.classes, vgg_pred_labels_03)\n",
"area_under_curve = auc(false_positive_rate, true_positive_rate)\n",
"\n",
"# Plot AUC Curve\n",
"fig, ax = plt.subplots(figsize=(12,8))\n",
"ax.plot([0,1], [0,1], 'k--')\n",
"ax.plot(false_positive_rate, true_positive_rate, label='AUC = {:.3f}'.format(area_under_curve))\n",
"ax.set_xlabel('False Positive Rate', fontsize=16)\n",
"ax.set_ylabel('True Positive Rate', fontsize=16)\n",
"ax.set_title(\"ROC curve\", fontsize=20)\n",
"ax.legend(frameon=False, loc='best', ncol=1, fontsize=16)"
]
},
{
"cell_type": "markdown",
"metadata": {},
"source": [
"# Prediction Results for 10 randomly selected images"
]
},
{
"cell_type": "code",
"execution_count": 135,
"metadata": {
"scrolled": true
},
"outputs": [],
"source": [
"test_images = [img for img in random.sample(infected_test_fpaths, 5)]\n",
"test_images.extend([img for img in random.sample(healthy_test_fpaths, 5)])"
]
},
{
"cell_type": "code",
"execution_count": 137,
"metadata": {
"scrolled": true
},
"outputs": [
{
"data": {
